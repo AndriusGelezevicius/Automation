{
 "cells": [
  {
   "cell_type": "markdown",
   "id": "abb524fb-619a-49c8-9725-eaca30bc6adb",
   "metadata": {},
   "source": [
    "## Copy selective files"
   ]
  },
  {
   "cell_type": "code",
   "execution_count": null,
   "id": "a0fdca70-1f78-47d6-bac5-16d366e03b17",
   "metadata": {},
   "outputs": [],
   "source": [
    "import shutil\n",
    "import os\n",
    "\n",
    "filenames_to_copy = [\"1.txt\", \"2.txt\", \"3.txt\"]\n",
    "\n",
    "for file in filenames_to_copy:\n",
    "    source = os.path.join(\"Data\", file)\n",
    "    destination = os.path.join(\"copys_folder\", file)\n",
    "    shutil.copyfile(source, destination)"
   ]
  },
  {
   "cell_type": "markdown",
   "id": "9de68696-754e-4dac-9e62-1a46f685534c",
   "metadata": {},
   "source": [
    "## Copy multiple files"
   ]
  },
  {
   "cell_type": "code",
   "execution_count": null,
   "id": "effd5147-f0ae-4550-88eb-761e4c9a81d0",
   "metadata": {},
   "outputs": [],
   "source": [
    "import shutil\n",
    "import os\n",
    "\n",
    "src_dir = \"source\" # folder\n",
    "dest_dir = \"destination\" \n",
    "\n",
    "for file in os.listdir(src_dir):\n",
    "    shutil.copy(src_dir + \"/\" + file, dest_dir)"
   ]
  },
  {
   "cell_type": "code",
   "execution_count": null,
   "id": "a74912e1-08bd-45c4-ae9d-47f83fe6d9ed",
   "metadata": {},
   "outputs": [],
   "source": [
    "import shutil\n",
    "import os\n",
    "\n",
    "src_dir = \"source\" # folder\n",
    "dest_dir = \"destination\" \n",
    "\n",
    "for file in os.listdir(src_dir):\n",
    "    if file.endswith(\".png\"):\n",
    "        shutil.copy(src_dir + \"/\" + file, dest_dir)"
   ]
  },
  {
   "cell_type": "markdown",
   "id": "183ca088-42ba-4779-930d-805a6fbae046",
   "metadata": {},
   "source": [
    "## Copy whole directory"
   ]
  },
  {
   "cell_type": "code",
   "execution_count": null,
   "id": "a6fb671c-c5e3-4d0d-8a4a-49f787f47067",
   "metadata": {},
   "outputs": [],
   "source": [
    "shutil.copytree(\"source\", \"destination\")"
   ]
  },
  {
   "cell_type": "markdown",
   "id": "0760db1f-c122-422f-a447-93a7f999c16e",
   "metadata": {},
   "source": [
    "## Delete folders constraining files"
   ]
  },
  {
   "cell_type": "code",
   "execution_count": 2,
   "id": "8c10a486-97be-423f-b75d-8a9b47050a17",
   "metadata": {},
   "outputs": [],
   "source": [
    "import os\n",
    "import shutil"
   ]
  },
  {
   "cell_type": "code",
   "execution_count": null,
   "id": "1291d774-f7f9-493c-a2fd-58811cf14cc2",
   "metadata": {},
   "outputs": [],
   "source": [
    "os.listdir(\"destination\")\n",
    "\n",
    "shutil.rmtree(\"destination\")"
   ]
  }
 ],
 "metadata": {
  "kernelspec": {
   "display_name": "Python 3 (ipykernel)",
   "language": "python",
   "name": "python3"
  },
  "language_info": {
   "codemirror_mode": {
    "name": "ipython",
    "version": 3
   },
   "file_extension": ".py",
   "mimetype": "text/x-python",
   "name": "python",
   "nbconvert_exporter": "python",
   "pygments_lexer": "ipython3",
   "version": "3.12.4"
  }
 },
 "nbformat": 4,
 "nbformat_minor": 5
}
