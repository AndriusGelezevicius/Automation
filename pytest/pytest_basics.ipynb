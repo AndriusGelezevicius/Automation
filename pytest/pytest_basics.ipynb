{
 "cells": [
  {
   "cell_type": "markdown",
   "id": "299b114e-f684-44f9-99fd-6d98609468ec",
   "metadata": {},
   "source": [
    "#### Pavyzdžiai"
   ]
  },
  {
   "cell_type": "code",
   "execution_count": null,
   "id": "86679ee7-bb40-48ac-aa48-b71ec13bf656",
   "metadata": {},
   "outputs": [],
   "source": [
    "#my_functions.py\n",
    "\n",
    "def add(number_one, number_two):\n",
    "    return number_one + number_two\n",
    "\n",
    "def divide(number_one, number_two):\n",
    "    if number_two == 0:\n",
    "        raise ValueError\n",
    "    return number_one / number_two\n",
    "\n",
    "# test_my_functions.py\n",
    "\n",
    "import pytest\n",
    "import source.my_functions as my_functions\n",
    "\n",
    "def test_add():\n",
    "    result = my_functions.add(1,4)\n",
    "    assert result == 5\n",
    "\n",
    "def test_add_strings():\n",
    "    result = my_functions.add(\"I like \", \"pizzas\")\n",
    "    assert result == \"I like pizzas\"\n",
    "\n",
    "def test_divide():\n",
    "    result = my_functions.divide(10, 5)\n",
    "    assert result == 2\n",
    "\n",
    "def test_divide_by_zero():\n",
    "    with pytest.raises(ValueError):\n",
    "        my_functions.divide(10, 0)\n"
   ]
  },
  {
   "cell_type": "code",
   "execution_count": null,
   "id": "f71862d7-f130-4333-bcb7-d397aa199522",
   "metadata": {},
   "outputs": [],
   "source": [
    "# second.py\n",
    "\n",
    "def add(a, b):\n",
    "    return a + b\n",
    "\n",
    "def multiply(a, b):\n",
    "    return a * b\n",
    "\n",
    "def is_even(n):\n",
    "    return n % 2 == 0\n",
    "\n",
    "# test_second.py\n",
    "\n",
    "import pytest\n",
    "import source.chatgbt_practice as chatgbt_practice\n",
    "\n",
    "def test_add():\n",
    "    result = chatgbt_practice.add(10, 0)\n",
    "    assert result == 10\n",
    "    assert chatgbt_practice.add(1, 1) == 2\n",
    "\n",
    "\n",
    "def test_multiply():\n",
    "    assert chatgbt_practice.multiply(5, 5) == 25\n",
    "\n",
    "\n",
    "def test_is_even():\n",
    "    assert chatgbt_practice.is_even(2) == True\n",
    "    assert chatgbt_practice.is_even(3) == False\n",
    "    assert chatgbt_practice.is_even(-4) == True\n",
    "    assert chatgbt_practice.is_even(0) == True\n"
   ]
  }
 ],
 "metadata": {
  "kernelspec": {
   "display_name": "Python 3 (ipykernel)",
   "language": "python",
   "name": "python3"
  },
  "language_info": {
   "codemirror_mode": {
    "name": "ipython",
    "version": 3
   },
   "file_extension": ".py",
   "mimetype": "text/x-python",
   "name": "python",
   "nbconvert_exporter": "python",
   "pygments_lexer": "ipython3",
   "version": "3.12.4"
  }
 },
 "nbformat": 4,
 "nbformat_minor": 5
}
