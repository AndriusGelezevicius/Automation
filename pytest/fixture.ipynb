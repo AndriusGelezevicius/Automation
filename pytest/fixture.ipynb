{
 "cells": [
  {
   "cell_type": "markdown",
   "id": "a10349cf-0d61-4c24-a891-998a39a168ac",
   "metadata": {},
   "source": [
    "### pytest fixture"
   ]
  },
  {
   "cell_type": "code",
   "execution_count": null,
   "id": "06492462-3e82-41cd-9824-9cbc6067e374",
   "metadata": {},
   "outputs": [],
   "source": [
    "# Kas yra fixture?\n",
    "# Fixture – tai speciali funkcija, kuri paruošia duomenis arba testų aplinką, kurią testų funkcijos gali naudoti kaip parametrą. Tai leidžia:\n",
    "#   Vengti kartojimo testuose.\n",
    "#   Sutvarkyti sudėtingus paruošimo veiksmus.\n",
    "#   Valdyti testų priklausomybes.\n",
    "\n",
    "# Kaip sukurti fixture?\n",
    "# Naudojame dekoratorių @pytest.fixture virš funkcijos."
   ]
  },
  {
   "cell_type": "code",
   "execution_count": null,
   "id": "8609d155-c432-4f02-8d7c-42e89cc53cc9",
   "metadata": {},
   "outputs": [],
   "source": [
    "# Pavyzdys:\n",
    "import pytest\n",
    "\n",
    "@pytest.fixture\n",
    "def sample_list():\n",
    "    # paruošiame testui sąrašą\n",
    "    return [1, 2, 3, 4, 5]"
   ]
  },
  {
   "cell_type": "code",
   "execution_count": null,
   "id": "54892f3f-fa5d-429c-b257-1cc026d82942",
   "metadata": {},
   "outputs": [],
   "source": [
    "# fixture naudojimas su klasėmis\n",
    "\n",
    "import pytest\n",
    "\n",
    "@pytest.fixture\n",
    "def pradine_suma():\n",
    "    return 100\n",
    "\n",
    "class TestAritmetika:\n",
    "    def test_pridejimas(self, pradine_suma):\n",
    "        assert pradine_suma + 50 == 150\n",
    "\n",
    "    def test_atimtis(self, pradine_suma):\n",
    "        assert pradine_suma - 20 == 80\n",
    "# fixture čia perduodama automatiškai kiekvienam testui klasėje."
   ]
  },
  {
   "cell_type": "code",
   "execution_count": null,
   "id": "7e93b9b2-01fb-44af-a89c-ba4760664f0f",
   "metadata": {},
   "outputs": [],
   "source": [
    "# Galimi scope variantai:\n",
    "\n",
    "@pytest.fixture(scope=\"function\")  # numatytasis\n",
    "@pytest.fixture(scope=\"class\")\n",
    "@pytest.fixture(scope=\"module\")\n",
    "@pytest.fixture(scope=\"package\")\n",
    "@pytest.fixture(scope=\"session\")\n",
    "\n",
    "# function – fixture sukuriama ir sunaikinama kiekvienai test funkcijai.\n",
    "# class – fixture sukuriama vieną kartą kiekvienai testų klasei (naudojama su self).\n",
    "# module – fixture sukuriama vieną kartą visam failui.\n",
    "# package – vieną kartą visam __init__.py turinčiam paketui.\n",
    "# session – vieną kartą visai testų sesijai (naudinga pvz. jungiantis prie DB ar paleidžiant naršyklę)."
   ]
  },
  {
   "cell_type": "markdown",
   "id": "3a69fd70-4368-43c9-8ef5-77bc57f7e572",
   "metadata": {},
   "source": [
    "#### scope=\"function\""
   ]
  },
  {
   "cell_type": "code",
   "execution_count": null,
   "id": "eb22582e-e058-41ea-8df7-c185d9f082d3",
   "metadata": {},
   "outputs": [],
   "source": [
    "# scope=\"function\" reiškia, kad fixture bus paleista iš naujo kiekvienai testavimo funkcijai (arba metodui).\n",
    "# Tai naudinga, kai:\n",
    "#     Reikia švarios, izoliuotos aplinkos kiekvienam testui.\n",
    "#     Nenori, kad testai darytų įtaką vieni kitiems.\n",
    "\n",
    "# Pavyzdys: \n",
    "import pytest\n",
    "\n",
    "@pytest.fixture\n",
    "def prepare_data():\n",
    "    print(\"Setup\")\n",
    "    return {\"key\": \"value\"}\n",
    "\n",
    "def test_one(prepare_data):\n",
    "    print(\"Test One\")\n",
    "    assert prepare_data[\"key\"] == \"value\"\n",
    "\n",
    "def test_two(prepare_data):\n",
    "    print(\"Test Two\")\n",
    "    assert \"key\" in prepare_data\n"
   ]
  },
  {
   "cell_type": "markdown",
   "id": "7c90226b-2cde-4735-a081-1507f2fba622",
   "metadata": {},
   "source": [
    "#### scope=\"class\""
   ]
  },
  {
   "cell_type": "code",
   "execution_count": null,
   "id": "beffa51d-a5ba-4b98-a457-9e0038aee7eb",
   "metadata": {},
   "outputs": [],
   "source": [
    "# Kai pytest fixture aprašoma su scope=\"class\", ji sukuriama vieną kartą\n",
    "# visai testų klasei, o ne kiekvienam testui atskirai. Tai panašu į setup_class,\n",
    "# bet lankstesnis būdas.\n",
    "\n",
    "# Pavyzdys:\n",
    "import pytest\n",
    "from skaiciavimai import daugyba\n",
    "\n",
    "# Fixture su scope=\"class\"\n",
    "@pytest.fixture(scope=\"class\")\n",
    "def bendri_duomenys():\n",
    "    print(\"🔧 Sukuriami bendri duomenys (vieną kartą klasei)\")\n",
    "    return {\"koef\": 10}\n",
    "\n",
    "class TestDaugyba:\n",
    "    def test_pirmas(self, bendri_duomenys):\n",
    "        assert daugyba(2, bendri_duomenys[\"koef\"]) == 20\n",
    "\n",
    "    def test_antras(self, bendri_duomenys):\n",
    "        assert daugyba(3, bendri_duomenys[\"koef\"]) == 30\n",
    "\n",
    "# Paaiškinimas\n",
    "# @pytest.fixture(scope=\"class\") reiškia, kad bendri_duomenys bus sukurtas vieną kartą prieš visus klasės testus.\n",
    "# Tai naudinga, kai duomenys ar resursai nesikeičia tarp testų.\n",
    "# Jis iškviečiamas tik vieną kartą, o ne kiekvienam testui.\n"
   ]
  }
 ],
 "metadata": {
  "kernelspec": {
   "display_name": "Python 3 (ipykernel)",
   "language": "python",
   "name": "python3"
  },
  "language_info": {
   "codemirror_mode": {
    "name": "ipython",
    "version": 3
   },
   "file_extension": ".py",
   "mimetype": "text/x-python",
   "name": "python",
   "nbconvert_exporter": "python",
   "pygments_lexer": "ipython3",
   "version": "3.12.4"
  }
 },
 "nbformat": 4,
 "nbformat_minor": 5
}
