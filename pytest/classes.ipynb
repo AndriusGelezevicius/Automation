{
 "cells": [
  {
   "cell_type": "code",
   "execution_count": null,
   "id": "52433a4c-b3af-4a82-bddf-c17abc242ad3",
   "metadata": {},
   "outputs": [],
   "source": [
    "# Pytest klasės: paaiškinimas ir pavyzdžiai\n",
    "# Naudojant pytest, testai gali būti organizuojami į klases, \n",
    "# kad būtų tvarkingesni, ypač jei keli testai turi bendrą paruošiamąją\n",
    "# informaciją (setup). \n",
    "# Tokiu atveju dažnai naudojamos šios funkcijos:\n",
    "#     setup_method(self) – atliekama prieš kiekvieną testą.\n",
    "#     teardown_method(self) – atliekama po kiekvieno testo.\n",
    "#     setup_class(cls) – atliekama vieną kartą visai klasei.\n",
    "#     teardown_class(cls) – atliekama vieną kartą po visų testų klasėje."
   ]
  },
  {
   "cell_type": "markdown",
   "id": "d5f65754-5887-4e8a-aa04-d42949e2c0df",
   "metadata": {},
   "source": [
    "#### setup_class ir teardown_class pytest testuose"
   ]
  },
  {
   "cell_type": "code",
   "execution_count": null,
   "id": "80627805-b38a-4a40-a87f-57d5108f9e42",
   "metadata": {},
   "outputs": [],
   "source": [
    "# setup_class ir teardown_class yra metodai, kuriuos pytest naudoja tam, kad atliktų veiksmus vieną kartą:\n",
    "#     setup_class(cls): vykdomas prieš visus testus klasėje.\n",
    "#     teardown_class(cls): vykdomas po visų testų klasėje.\n",
    "\n",
    "# Jie ypač naudingi, kai nori:\n",
    "#     Inicializuoti duomenis ar išteklius vieną kartą visiems testams.\n",
    "#     Sutaupyti laiką, jei testų paruošimas ilgas.\n",
    "# Pvz.: prisijungti prie duomenų bazės, atidaryti failą, sukurti didelį objektą.\n",
    "\n",
    "# Pavyzdys:\n",
    "class TestDuomenys:\n",
    "    @classmethod\n",
    "    def setup_class(cls):\n",
    "        print(\"\\n🔧 setup_class vykdomas\")\n",
    "        cls.sarasas = [1, 2, 3, 4]\n",
    "\n",
    "    @classmethod\n",
    "    def teardown_class(cls):\n",
    "        print(\"🧹 teardown_class vykdomas\")\n",
    "\n",
    "    def test_ilgis(self):\n",
    "        assert len(self.sarasas) == 4\n",
    "\n",
    "    def test_pirmas_elementas(self):\n",
    "        assert self.sarasas[0] == 1\n",
    "#  Rezultate setup_class sukurs sąrašą vieną kartą, ir abu testai jį naudos. Po testų teardown_class išspausdins žinutę.\n",
    "\n",
    "# Pavyzdys:\n",
    "import pytest\n",
    "\n",
    "# first.py\n",
    "def padauginti(x, y):\n",
    "    return x * y\n",
    "\n",
    "# test_first.py\n",
    "class TestDaugyba:\n",
    "    @classmethod\n",
    "    def setup_class(cls):\n",
    "        print(\"\\n🔧 Prasideda testų klasė\")\n",
    "        cls.bendras_daugyklis = 10  # Bendras visiems testams\n",
    "\n",
    "    @classmethod\n",
    "    def teardown_class(cls):\n",
    "        print(\"🧹 Baigėsi testų klasė\")\n",
    "\n",
    "    def setup_method(self):\n",
    "        print(\"⏱ Prasideda testas\")\n",
    "        self.skaicius = 5  # Atskiras kiekvienam testui\n",
    "\n",
    "    def teardown_method(self):\n",
    "        print(\"📤 Testas baigtas\")\n",
    "\n",
    "    def test_daugyba1(self):\n",
    "        assert padauginti(self.skaicius, self.bendras_daugyklis) == 50\n",
    "\n",
    "    def test_daugyba2(self):\n",
    "        assert padauginti(self.skaicius + 1, self.bendras_daugyklis) == 60"
   ]
  }
 ],
 "metadata": {
  "kernelspec": {
   "display_name": "Python 3 (ipykernel)",
   "language": "python",
   "name": "python3"
  },
  "language_info": {
   "codemirror_mode": {
    "name": "ipython",
    "version": 3
   },
   "file_extension": ".py",
   "mimetype": "text/x-python",
   "name": "python",
   "nbconvert_exporter": "python",
   "pygments_lexer": "ipython3",
   "version": "3.12.4"
  }
 },
 "nbformat": 4,
 "nbformat_minor": 5
}
