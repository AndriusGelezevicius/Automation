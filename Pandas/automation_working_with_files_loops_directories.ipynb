{
 "cells": [
  {
   "cell_type": "markdown",
   "id": "727d9d2a-0230-44cf-bbdd-d68315cca94f",
   "metadata": {},
   "source": [
    "###  Efektyvus didelių failų tvarkymas (chunksize=)"
   ]
  },
  {
   "cell_type": "code",
   "execution_count": null,
   "id": "bde4aafc-d325-4882-b0b9-f44a362829e8",
   "metadata": {},
   "outputs": [],
   "source": [
    "# chunksize - leidžia apdoroti didelius failus po dalimis, jų neiškraunant visų į atmintį vienu metu. Tai naudinga, kai:\n",
    "# Failas per didelis, kad tilptų į RAM.\n",
    "# Nori efektyviau dirbti su dideliais duomenų kiekiais.\n",
    "# Reikia apdoroti eilutes palaipsniui (pvz. filtravimas, skaičiavimas)."
   ]
  },
  {
   "cell_type": "code",
   "execution_count": null,
   "id": "79b39635-1638-4fc7-b900-6c171729f3ed",
   "metadata": {},
   "outputs": [],
   "source": [
    "# Pagrindinis principas: read_csv() su chunksize\n",
    "import pandas as pd\n",
    "\n",
    "# Nuskaito CSV failą dalimis po 1000 eilučių\n",
    "chunks = pd.read_csv(\"didelis_failas.csv\", chunksize=1000)\n",
    "\n",
    "for chunk in chunks:\n",
    "    # Galima čia atlikti filtravimą, analizę, skaičiavimus\n",
    "    print(chunk.head())\n"
   ]
  },
  {
   "cell_type": "code",
   "execution_count": null,
   "id": "564cfbb4-d7fb-4150-9520-c488864ae5ba",
   "metadata": {},
   "outputs": [],
   "source": [
    "# Pavyzdys – tik įrašai, kurių suma > 1000\n",
    "import pandas as pd\n",
    "\n",
    "rezultatas = []\n",
    "\n",
    "for dalis in pd.read_csv(\"didelis_failas.csv\", chunksize=500):\n",
    "    filtruoti = dalis[dalis[\"Suma\"] > 1000]\n",
    "    rezultatas.append(filtruoti)\n",
    "\n",
    "# Sujungiam į vieną DataFrame\n",
    "df_galutinis = pd.concat(rezultatas, ignore_index=True)\n",
    "\n",
    "# Išsaugom\n",
    "df_galutinis.to_csv(\"filtruotas.csv\", index=False)"
   ]
  },
  {
   "cell_type": "code",
   "execution_count": null,
   "id": "0c2b312d-e5fe-4cb0-bb9b-5709ea1068cb",
   "metadata": {},
   "outputs": [],
   "source": [
    "# chunksize\t - Nuskaito failą dalimis\n",
    "# for chunk in ...\t- Galima taikyti logiką kiekvienam gabalui\n",
    "# concat() - Sujungia visus rezultatus\n",
    "# Naudoja mažai RAM\t- Nes kiekvienas gabalas ištrinamas iš atminties po ciklo"
   ]
  }
 ],
 "metadata": {
  "kernelspec": {
   "display_name": "Python 3 (ipykernel)",
   "language": "python",
   "name": "python3"
  },
  "language_info": {
   "codemirror_mode": {
    "name": "ipython",
    "version": 3
   },
   "file_extension": ".py",
   "mimetype": "text/x-python",
   "name": "python",
   "nbconvert_exporter": "python",
   "pygments_lexer": "ipython3",
   "version": "3.12.4"
  }
 },
 "nbformat": 4,
 "nbformat_minor": 5
}
