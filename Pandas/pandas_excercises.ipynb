{
 "cells": [
  {
   "cell_type": "code",
   "execution_count": 1,
   "id": "3ed67366-339d-4eb7-a7a8-74e8f9a8da09",
   "metadata": {},
   "outputs": [
    {
     "name": "stdout",
     "output_type": "stream",
     "text": [
      "   ID   Name  Age  Salary\n",
      "0   1  Name1   23    3161\n",
      "1   2  Name2   21    1524\n",
      "2   3  Name3   41    2052\n",
      "3   4  Name4   59    1222\n",
      "4   5  Name5   19    1593\n"
     ]
    }
   ],
   "source": [
    "# 1. Užduotis: Skaityti CSV failą su chunksize ir sujungti duomenis\n",
    "# Sukurkite CSV failą su daugiau nei 10000 eilučių (arba naudokite jau\n",
    "# turimą didelį failą) ir naudokite chunksize, kad skaitytumėte failą dalimis po\n",
    "# 1000 eilučių. Po to sujunkite visas dalis į vieną DataFrame.\n",
    "# Instrukcijos:\n",
    "# Naudokite chunksize, kad skaitant failą gautumėte 1000 eilučių dalis.\n",
    "# Susiekite visas dalis į vieną DataFrame su pd.concat().\n",
    "# Parodykite pirmas 5 eilutes iš sujungto duomenų rinkinio.\n",
    "\n",
    "import pandas as pd\n",
    "\n",
    "chunks = pd.read_csv(\"large_file.csv\", chunksize=1000)\n",
    "\n",
    "df_list = []\n",
    "\n",
    "for chunk in chunks:\n",
    "    df_list.append(chunk)\n",
    "\n",
    "df_all = pd.concat(df_list, ignore_index=True)\n",
    "print(df_all.head())"
   ]
  },
  {
   "cell_type": "code",
   "execution_count": 2,
   "id": "fa0aa04d-b712-4844-868e-9fd9b78c7b63",
   "metadata": {},
   "outputs": [
    {
     "name": "stdout",
     "output_type": "stream",
     "text": [
      "        ID      Name  Age  Salary\n",
      "0        3     Name3   41    2052\n",
      "1        4     Name4   59    1222\n",
      "2        6     Name6   65    2310\n",
      "3        7     Name7   58    3055\n",
      "4        9     Name9   37    3170\n",
      "...    ...       ...  ...     ...\n",
      "7444  9994  Name9994   56    2915\n",
      "7445  9995  Name9995   67    2767\n",
      "7446  9996  Name9996   50    1280\n",
      "7447  9997  Name9997   61    4481\n",
      "7448  9999  Name9999   59    2828\n",
      "\n",
      "[7449 rows x 4 columns]\n"
     ]
    }
   ],
   "source": [
    "# Filtruoti duomenis pagal sąlygą naudojant chunksize\n",
    "# Skaitykite didelį CSV failą dalimis po 5000 eilučių. Filtruokite įrašus, kurių tam tikras\n",
    "# stulpelis (pvz., Age) yra didesnis nei 30 ir įrašykite rezultatus į naują failą.\n",
    "# Instrukcijos:\n",
    "# Naudokite chunksize su 5000 eilučių.\n",
    "# Filtruokite duomenis, kad liktų tik tie įrašai, kurių Age stulpelio reikšmė yra didesnė nei 30.\n",
    "# Išsaugokite rezultatus į naują CSV failą.\n",
    "\n",
    "import pandas as pd\n",
    "chunks = pd.read_csv(\"large_file.csv\", chunksize=5000)\n",
    "\n",
    "result = []\n",
    "\n",
    "for chunk in chunks:\n",
    "    filtered = chunk[chunk[\"Age\"] > 30]\n",
    "    result.append(filtered)\n",
    "\n",
    "df_all = pd.concat(result, ignore_index=True)\n",
    "df_all.to_csv(\"result_task2.csv\", index=False)\n",
    "print(df_all)"
   ]
  },
  {
   "cell_type": "code",
   "execution_count": 3,
   "id": "d20a3559-3de9-4224-8380-4281028e3e41",
   "metadata": {},
   "outputs": [
    {
     "name": "stdout",
     "output_type": "stream",
     "text": [
      "<class 'pandas.core.frame.DataFrame'>\n",
      "RangeIndex: 5 entries, 0 to 4\n",
      "Data columns (total 8 columns):\n",
      " #   Column       Non-Null Count  Dtype \n",
      "---  ------       --------------  ----- \n",
      " 0   Klientas     5 non-null      object\n",
      " 1   Uzsakymo_ID  5 non-null      int64 \n",
      " 2   Preke        5 non-null      object\n",
      " 3   Kiekis       5 non-null      int64 \n",
      " 4   Kaina        5 non-null      int64 \n",
      " 5   Data         5 non-null      object\n",
      " 6   Atlyginimas  5 non-null      int64 \n",
      " 7   Statusas     5 non-null      object\n",
      "dtypes: int64(4), object(4)\n",
      "memory usage: 452.0+ bytes\n",
      "None\n",
      "  Klientas  Uzsakymo_ID           Preke  Kiekis  Kaina        Data  \\\n",
      "0    Jonas            1       Telefonas       1    500  2025-04-01   \n",
      "1   Petras            2    Televizorius       2    800  2025-04-02   \n",
      "2     Ieva            3     Kompiuteris       1   1200  2025-04-02   \n",
      "3     Asta            4          Spinta       3    150  2025-04-03   \n",
      "4   Marius            5  Kavos aparatas       1    200  2025-04-04   \n",
      "\n",
      "   Atlyginimas     Statusas  \n",
      "0         1500    Išsiųstas  \n",
      "1         2500  Apdorojamas  \n",
      "2         1800    Išsiųstas  \n",
      "3         2200    Laukiamas  \n",
      "4         2000    Išsiųstas  \n",
      "       Uzsakymo_ID    Kiekis        Kaina  Atlyginimas\n",
      "count     5.000000  5.000000     5.000000     5.000000\n",
      "mean      3.000000  1.600000   570.000000  2000.000000\n",
      "std       1.581139  0.894427   438.178046   380.788655\n",
      "min       1.000000  1.000000   150.000000  1500.000000\n",
      "25%       2.000000  1.000000   200.000000  1800.000000\n",
      "50%       3.000000  1.000000   500.000000  2000.000000\n",
      "75%       4.000000  2.000000   800.000000  2200.000000\n",
      "max       5.000000  3.000000  1200.000000  2500.000000\n",
      "Klientas       0\n",
      "Uzsakymo_ID    0\n",
      "Preke          0\n",
      "Kiekis         0\n",
      "Kaina          0\n",
      "Data           0\n",
      "Atlyginimas    0\n",
      "Statusas       0\n",
      "dtype: int64\n"
     ]
    }
   ],
   "source": [
    "#  Užduotis - Klientų užsakymų analizė (įkėlimas, peržiūra)\n",
    "# Gauta: Failas uzsakymai.xlsx,(large_file.csv) kuriame yra duomenys apie klientus.\n",
    "# Tavo užduotis:\n",
    "# Įkelk failą su pandas.read_excel.\n",
    "# Naudodamas df.info(), df.head() ir df.describe() pateik trumpą duomenų aprašymą.\n",
    "# Patikrink, ar yra trūkstamų reikšmių.\n",
    "\n",
    "df = pd.read_excel(\"uzsakymai.xlsx\")  # jei dirbi su CSV, naudok read_csv\n",
    "\n",
    "# Trumpas duomenų aprašymas\n",
    "print(df.info())        # informacija apie stulpelius, tipą, trūkstamas reikšmes\n",
    "print(df.head())        # pirmos 5 eilutės\n",
    "print(df.describe())    # statistinė santrauka (skaitiniams stulpeliams)\n",
    "\n",
    "# Patikriname trūkstamas reikšmes\n",
    "print(df.isna().sum())  # kiekviename stulpelyje esančių trūkstamų reikšmių skaičius\n"
   ]
  },
  {
   "cell_type": "code",
   "execution_count": 4,
   "id": "1677f550-0dc7-4f17-be1a-5d807ed173ec",
   "metadata": {},
   "outputs": [
    {
     "name": "stdout",
     "output_type": "stream",
     "text": [
      "Index(['Klientas', 'Uzsakymo_ID', 'Preke', 'Kiekis', 'Kaina', 'Data',\n",
      "       'Atlyginimas', 'Statusas'],\n",
      "      dtype='object')\n",
      "  Klientas  Uzsakymo_ID           Preke  Kiekis   Kaina Užsakymo data  \\\n",
      "0    Jonas            1       Telefonas       1   500.0    2025-04-01   \n",
      "1   Petras            2    Televizorius       2   800.0    2025-04-02   \n",
      "2     Ieva            3     Kompiuteris       1  1200.0    2025-04-02   \n",
      "3     Asta            4          Spinta       3   150.0    2025-04-03   \n",
      "4   Marius            5  Kavos aparatas       1   200.0    2025-04-04   \n",
      "\n",
      "   Atlyginimas     Statusas    PVM  \n",
      "0         1500    Išsiųstas  105.0  \n",
      "1         2500  Apdorojamas  168.0  \n",
      "2         1800    Išsiųstas  252.0  \n",
      "3         2200    Laukiamas   31.5  \n",
      "4         2000    Išsiųstas   42.0  \n"
     ]
    }
   ],
   "source": [
    "# Užduotis 2 – Duomenų valymas ir transformacija\n",
    "# Tavo užduotis:\n",
    "# Pakeisk stulpelio Suma duomenų tipą į float.\n",
    "# Užpildyk trūkstamas reikšmes stulpelyje Kiekis  - 0\".\n",
    "# Sukurk naują stulpelį PVM, kuris būtų Suma * 0.21.\n",
    "# Pervardink stulpelį Data į Užsakymo data.\n",
    "df = pd.read_excel(\"uzsakymai.xlsx\")\n",
    "print(df.columns)\n",
    "\n",
    "df[\"Kaina\"] = df[\"Kaina\"].astype(float)\n",
    "df[\"Kiekis\"] = df[\"Kiekis\"].fillna(0)\n",
    "df[\"PVM\"] = df[\"Kaina\"] * 0.21\n",
    "df = df.rename(columns={\"Data\": \"Užsakymo data\"})\n",
    "print(df.head())\n"
   ]
  },
  {
   "cell_type": "code",
   "execution_count": 5,
   "id": "67c54f40-91d7-4f39-8b52-da74ce95f81a",
   "metadata": {},
   "outputs": [
    {
     "name": "stdout",
     "output_type": "stream",
     "text": [
      "  Klientas  Uzsakymo_ID           Preke  Kiekis  Kaina        Data  \\\n",
      "0    Jonas            1       Telefonas       1    500  2025-04-01   \n",
      "1   Petras            2    Televizorius       2    800  2025-04-02   \n",
      "2     Ieva            3     Kompiuteris       1   1200  2025-04-02   \n",
      "3     Asta            4          Spinta       3    150  2025-04-03   \n",
      "4   Marius            5  Kavos aparatas       1    200  2025-04-04   \n",
      "\n",
      "   Atlyginimas     Statusas  Didelis_uzsakymas Kategorija  \n",
      "0         1500    Išsiųstas               True    Didelis  \n",
      "1         2500  Apdorojamas               True    Didelis  \n",
      "2         1800    Išsiųstas               True    Didelis  \n",
      "3         2200    Laukiamas               True    Didelis  \n",
      "4         2000    Išsiųstas               True    Didelis  \n"
     ]
    }
   ],
   "source": [
    "# Užduotis 3 – Logika ir sąlygos\n",
    "# Tavo užduotis:\n",
    "# Sukurk stulpelį Didelis_uzsakymas, kuris būtų True, jei Kaina > 50\n",
    "# Sukurk stulpelį Kategorija pagal taisykles:\n",
    "# Kaina < 50 → \"Mažas\"\n",
    "# Kaina < 100 → \"Vidutinis\"\n",
    "# Kaina >= 150 → \"Didelis\"\n",
    "# Naudok apply() ir lambda.\n",
    "\n",
    "df = pd.read_excel(\"uzsakymai.xlsx\")\n",
    "df[\"Didelis_uzsakymas\"] = df[\"Kaina\"] > 50\n",
    "df[\"Kategorija\"] = df[\"Kaina\"].apply( lambda x: \"Mazas\"if x < 50 else (\"Vidutinis\"if x < 100 else \"Didelis\"))\n",
    "print(df.head())"
   ]
  },
  {
   "cell_type": "code",
   "execution_count": null,
   "id": "02ae781d-1ad4-4bc9-a970-1248e4168615",
   "metadata": {},
   "outputs": [],
   "source": [
    "# Užduotis 4 – Grupavimas ir agregavimas\n",
    "# Tavo užduotis:\n",
    "# Suskaičiuok, kiek užsakymų atliko kiekvienas klientas (groupby).\n",
    "# Pateik sumą pagal miestus.\n",
    "# Pritaikyk agg() funkciją: klientams pateik jų užsakymų kiekį ir vidutinę sumą.\n",
    "\n",
    "df = pd.read_excel()"
   ]
  },
  {
   "cell_type": "code",
   "execution_count": null,
   "id": "bca364ed-1e24-4dae-bf3e-caef524c7907",
   "metadata": {},
   "outputs": [],
   "source": [
    "# Užduotis 4 – Grupavimas ir agregavimas\n",
    "# Tavo užduotis:\n",
    "# Suskaičiuok, kiek užsakymų atliko kiekvienas klientas (groupby).\n",
    "# Pateik sumą pagal miestus.\n",
    "# Pritaikyk agg() funkciją: klientams pateik jų užsakymų kiekį ir vidutinę sumą.\n",
    "\n",
    "df = pd.read_excel(\"uzsakymai.xlsx\")\n",
    "uzsakymu_kiekis = df.groupby(\"Klientas\")[\"Kiekis\"].count()\n",
    "suma_pagal_miesta = df.groupby(\"Miestas\")[\"Suma\"].sum()\n",
    "df.groupby(\"Klientas\")[\"Kiekis\"].agg({\"Kiekis\": \"count\",\"Suma\": \"sum\"})"
   ]
  },
  {
   "cell_type": "code",
   "execution_count": null,
   "id": "d7638b58-f207-471b-86e5-f640d442d50c",
   "metadata": {},
   "outputs": [],
   "source": [
    "# Užduotis 6 – Darbas su Excel failais\n",
    "# Tavo užduotis:\n",
    "# Įrašyk filtruotus duomenis, kur Atlyginimas > 1500, į didelis_uzsakymas.xlsx.\n",
    "# Sukurk du Excel lapus: viename – visi duomenys, kitame – tik išsiųstas statusas.\n",
    "# Įrašyk failą su data pavadinime, pvz., ataskaita_2025-04-10.xlsx.\n",
    "\n",
    "#import pandas as pd\n",
    "from datetime import date\n",
    "df = pd.read_excel(\"uzsakymai.xlsx\")\n",
    "\n",
    "atlyginimas_didesnis = df[df[\"Atlyginimas\"] > 1500]\n",
    "atlyginimas_didesnis.to_excel(\"didelis_uzsakymas.xlsx\", index=False)\n",
    "\n",
    "siandien = date.today().strftime(\"%Y-%m-%d\")\n",
    "failo_pavadinimas = f\"ataskaita_{siandien}.xlsx\"\n",
    "\n",
    "df2 = df[df[\"Statusas\"] == \"Išsiųstas\"]\n",
    "with pd.ExcelWriter(failo_pavadinimas, engine=openpyxl) as writer:\n",
    "    df.to_excel(writer, sheet_name=\"Visi_duomenys\", index=False)\n",
    "    df2.to_excel(writer, sheet_name=\"Statusas-issiustas\", index=False)"
   ]
  }
 ],
 "metadata": {
  "kernelspec": {
   "display_name": "Python 3 (ipykernel)",
   "language": "python",
   "name": "python3"
  },
  "language_info": {
   "codemirror_mode": {
    "name": "ipython",
    "version": 3
   },
   "file_extension": ".py",
   "mimetype": "text/x-python",
   "name": "python",
   "nbconvert_exporter": "python",
   "pygments_lexer": "ipython3",
   "version": "3.12.4"
  }
 },
 "nbformat": 4,
 "nbformat_minor": 5
}
