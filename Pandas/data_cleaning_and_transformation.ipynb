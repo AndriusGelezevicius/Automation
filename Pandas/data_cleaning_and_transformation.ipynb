{
 "cells": [
  {
   "cell_type": "markdown",
   "id": "bbd7de0f-db41-4aef-84fc-0fe3245b40c0",
   "metadata": {},
   "source": [
    "# Trūkstamų duomenų tvarkymas"
   ]
  },
  {
   "cell_type": "code",
   "execution_count": null,
   "id": "99a34ffe-28c2-4efd-8146-31fe061b6fc4",
   "metadata": {},
   "outputs": [],
   "source": [
    "# Kaip rasti trūkstamas reikšmes?\n",
    "df.isna()                # Parodo, kur yra NaN\n",
    "df.isna().sum()          # Suskaičiuoja trūkstamas reikšmes kiekviename stulpelyje\n",
    "\n",
    "#Kaip pašalinti trūkstamas reikšmes?\n",
    "df.dropna()              # Pašalina eilutes su bent viena NaN reikšme\n",
    "df.dropna(axis=1)        # Pašalina stulpelius, kuriuose yra bent viena NaN\n",
    "df.dropna(inplace=True)  # Pakeičia df tiesiogiai\n",
    "\n",
    "#Kaip užpildyti trūkstamas reikšmes?\n",
    "df.fillna(0)                          # Visus NaN pakeičia į 0\n",
    "df.fillna(\"Nežinoma\")                # Visus NaN pakeičia į tekstą\n",
    "\n",
    "df.fillna({\"Name\": \"Nėra\", \"Age\": 0})\n",
    "df[\"Age\"].fillna(df[\"Age\"].mean(), inplace=True)\n"
   ]
  },
  {
   "cell_type": "code",
   "execution_count": 4,
   "id": "4a6ed6af-95de-4cd9-9c13-0eb336f55f1d",
   "metadata": {},
   "outputs": [],
   "source": [
    "# Example\n",
    "import pandas as pd\n",
    "import numpy as np\n",
    "\n",
    "df = pd.DataFrame({\n",
    "    \"Name\": [\"Anna\", np.nan, \"Jonas\"],\n",
    "    \"Age\": [28, 34, np.nan],\n",
    "    \"City\": [np.nan, \"Kaunas\", \"Vilnius\"]\n",
    "})\n",
    "\n",
    "print(df.isna().sum())\n",
    "\n",
    "df[\"Name\"].fillna(\"Nežinomas\", inplace=True)\n",
    "df[\"Age\"].fillna(df[\"Age\"].mean(), inplace=True)\n",
    "df[\"City\"].fillna(\"Nežinomas\", inplace=True)\n",
    "\n",
    "print(df)\n"
   ]
  },
  {
   "cell_type": "code",
   "execution_count": 7,
   "id": "d95289e2-f4b0-454d-98d5-399d5aac1390",
   "metadata": {},
   "outputs": [
    {
     "name": "stdout",
     "output_type": "stream",
     "text": [
      "    Name   Age\n",
      "0   Anna  28.0\n",
      "1    NaN   NaN\n",
      "2  Jonas  34.0\n",
      "    Name    Age\n",
      "0  False  False\n",
      "1   True   True\n",
      "2  False  False\n",
      "Name    1\n",
      "Age     1\n",
      "dtype: int64\n"
     ]
    }
   ],
   "source": [
    "# isna() - isna() yra Pandas metodas, kuris padeda rasti trūkstamas reikšmes (NaN) duomenų lentelėje (DataFrame) arba stulpelyje (Series).\n",
    "df = pd.DataFrame({\n",
    "    \"Name\": [\"Anna\", np.nan, \"Jonas\"],\n",
    "    \"Age\": [28, np.nan, 34]\n",
    "})\n",
    "print(df)\n",
    "print(df.isna())\n",
    "print(df.isna().sum())"
   ]
  },
  {
   "cell_type": "code",
   "execution_count": 26,
   "id": "0dee98ef-2b29-441a-9664-47b691da2444",
   "metadata": {},
   "outputs": [
    {
     "name": "stdout",
     "output_type": "stream",
     "text": [
      "   Name   Age     City\n",
      "0  Anna  28.0  Vilnius\n"
     ]
    }
   ],
   "source": [
    "#dropna() metodas pašalina trūkstamas reikšmes (NaN turinčias eilutes arba stulpelius) iš DataFrame. Naudojamas, kai nori atsikratyti duomenų su tuščiomis reikšmėmis.\n",
    "df = pd.DataFrame({\n",
    "    \"Name\": [\"Anna\", np.nan, \"Jonas\", \"Laura\"],\n",
    "    \"Age\": [28, np.nan, 34, 45],\n",
    "    \"City\": [\"Vilnius\", \"Kaunas\", np.nan, np.nan]\n",
    "})\n",
    "#print(df)\n",
    "#print(df.dropna()) # Pašalina eilutes, kuriose bent viena reikšmė yra NaN\n",
    "df = df.dropna(axis=0)\n",
    "#df = df.dropna(how=\"all\") # Pašalina tik tas eilutes, kur visos reikšmės yra NaN\n",
    "print(df)"
   ]
  }
 ],
 "metadata": {
  "kernelspec": {
   "display_name": "Python 3 (ipykernel)",
   "language": "python",
   "name": "python3"
  },
  "language_info": {
   "codemirror_mode": {
    "name": "ipython",
    "version": 3
   },
   "file_extension": ".py",
   "mimetype": "text/x-python",
   "name": "python",
   "nbconvert_exporter": "python",
   "pygments_lexer": "ipython3",
   "version": "3.12.4"
  }
 },
 "nbformat": 4,
 "nbformat_minor": 5
}
