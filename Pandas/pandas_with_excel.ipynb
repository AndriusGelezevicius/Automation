{
 "cells": [
  {
   "cell_type": "markdown",
   "id": "5ec35dcc-b138-4700-baf8-31c040738840",
   "metadata": {},
   "source": [
    "## Darbas su Excel failais naudojant Pandas"
   ]
  },
  {
   "cell_type": "code",
   "execution_count": null,
   "id": "d7d6a802-6f1e-46cd-9706-60fa115d6b5d",
   "metadata": {},
   "outputs": [],
   "source": [
    "# Prieš pradedant įsitikink, kad įdiegta reikalinga biblioteka:\n",
    "pip install openpyxl\n",
    "\n",
    "#  Excel failo nuskaitymas\n",
    "import pandas as pd\n",
    "\n",
    "df = pd.read_excel(\"duomenys.xlsx\")\n",
    "print(df.head())\n",
    "\n",
    "# Nurodyti konkretų lapą\n",
    "df = pd.read_excel(\"duomenys.xlsx\", sheet_name=\"Pardavimai\")\n",
    "\n",
    "#  Gauti visų lapų sąrašą\n",
    "excel_file = pd.ExcelFile(\"duomenys.xlsx\")\n",
    "print(excel_file.sheet_names)\n",
    "\n",
    "# Skaityti kelis lapus\n",
    "lapai = pd.read_excel(\"duomenys.xlsx\", sheet_name=[\"Pardavimai\", \"Sandėlis\"])\n",
    "\n",
    "# Prieiga prie konkretaus lapo:\n",
    "pardavimai_df = lapai[\"Pardavimai\"]\n",
    "sandelis_df = lapai[\"Sandėlis\"]\n",
    "\n",
    "# Įrašymas į Excel failą\n",
    "df.to_excel(\"naujas_failas.xlsx\", index=False)\n",
    "\n",
    "# Įrašyti kelis DataFrame į skirtingus lapus\n",
    "with pd.ExcelWriter(\"ataskaita.xlsx\", engine=\"openpyxl\") as writer:\n",
    "    df1.to_excel(writer, sheet_name=\"Lapas1\", index=False)\n",
    "    df2.to_excel(writer, sheet_name=\"Lapas2\", index=False)\n",
    "\n",
    "# Naudingi parametrai\n",
    "# Parametras - Aprašymas\n",
    "# index=False - Neįrašo indeksų į Excel\n",
    "# sheet_name=\"...\" - Nurodo konkretų lapą\n",
    "# dtype\t- Nurodo stulpelių tipus skaitymui\n",
    "# skiprows=n - Praleidžia pirmas n eilučių\n",
    "\n",
    "# Pavyzdys: Skaityti ir filtruoti\n",
    "\n",
    "df = pd.read_excel(\"klientai.xlsx\")\n",
    "# Tik klientai iš Kauno\n",
    "kauno_klientai = df[df[\"Miestas\"] == \"Kaunas\"]\n",
    "# Įrašyti į naują failą\n",
    "kauno_klientai.to_excel(\"kauno_klientai.xlsx\", index=False)"
   ]
  },
  {
   "cell_type": "code",
   "execution_count": null,
   "id": "1436856e-5494-4c6f-b05f-2134f3a51e1d",
   "metadata": {},
   "outputs": [],
   "source": []
  }
 ],
 "metadata": {
  "kernelspec": {
   "display_name": "Python 3 (ipykernel)",
   "language": "python",
   "name": "python3"
  },
  "language_info": {
   "codemirror_mode": {
    "name": "ipython",
    "version": 3
   },
   "file_extension": ".py",
   "mimetype": "text/x-python",
   "name": "python",
   "nbconvert_exporter": "python",
   "pygments_lexer": "ipython3",
   "version": "3.12.4"
  }
 },
 "nbformat": 4,
 "nbformat_minor": 5
}
