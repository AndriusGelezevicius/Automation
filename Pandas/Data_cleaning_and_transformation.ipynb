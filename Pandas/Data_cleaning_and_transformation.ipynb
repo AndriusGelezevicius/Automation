{
 "cells": [
  {
   "cell_type": "markdown",
   "id": "bbd7de0f-db41-4aef-84fc-0fe3245b40c0",
   "metadata": {},
   "source": [
    "# Trūkstamų duomenų tvarkymas"
   ]
  },
  {
   "cell_type": "code",
   "execution_count": null,
   "id": "99a34ffe-28c2-4efd-8146-31fe061b6fc4",
   "metadata": {},
   "outputs": [],
   "source": [
    "# Kaip rasti trūkstamas reikšmes?\n",
    "df.isna()                # Parodo, kur yra NaN\n",
    "df.isna().sum()          # Suskaičiuoja trūkstamas reikšmes kiekviename stulpelyje\n",
    "\n",
    "#Kaip pašalinti trūkstamas reikšmes?\n",
    "df.dropna()              # Pašalina eilutes su bent viena NaN reikšme\n",
    "df.dropna(axis=1)        # Pašalina stulpelius, kuriuose yra bent viena NaN\n",
    "df.dropna(inplace=True)  # Pakeičia df tiesiogiai\n",
    "\n",
    "#Kaip užpildyti trūkstamas reikšmes?\n",
    "df.fillna(0)                          # Visus NaN pakeičia į 0\n",
    "df.fillna(\"Nežinoma\")                # Visus NaN pakeičia į tekstą\n",
    "\n",
    "df.fillna({\"Name\": \"Nėra\", \"Age\": 0})\n",
    "df[\"Age\"].fillna(df[\"Age\"].mean(), inplace=True)\n"
   ]
  },
  {
   "cell_type": "code",
   "execution_count": 4,
   "id": "4a6ed6af-95de-4cd9-9c13-0eb336f55f1d",
   "metadata": {},
   "outputs": [],
   "source": [
    "# Example\n",
    "import pandas as pd\n",
    "import numpy as np\n",
    "\n",
    "df = pd.DataFrame({\n",
    "    \"Name\": [\"Anna\", np.nan, \"Jonas\"],\n",
    "    \"Age\": [28, 34, np.nan],\n",
    "    \"City\": [np.nan, \"Kaunas\", \"Vilnius\"]\n",
    "})\n",
    "\n",
    "print(df.isna().sum())\n",
    "\n",
    "df[\"Name\"].fillna(\"Nežinomas\", inplace=True)\n",
    "df[\"Age\"].fillna(df[\"Age\"].mean(), inplace=True)\n",
    "df[\"City\"].fillna(\"Nežinomas\", inplace=True)\n",
    "\n",
    "print(df)\n"
   ]
  },
  {
   "cell_type": "code",
   "execution_count": 7,
   "id": "d95289e2-f4b0-454d-98d5-399d5aac1390",
   "metadata": {},
   "outputs": [
    {
     "name": "stdout",
     "output_type": "stream",
     "text": [
      "    Name   Age\n",
      "0   Anna  28.0\n",
      "1    NaN   NaN\n",
      "2  Jonas  34.0\n",
      "    Name    Age\n",
      "0  False  False\n",
      "1   True   True\n",
      "2  False  False\n",
      "Name    1\n",
      "Age     1\n",
      "dtype: int64\n"
     ]
    }
   ],
   "source": [
    "# isna() - isna() yra Pandas metodas, kuris padeda rasti trūkstamas reikšmes (NaN) duomenų lentelėje (DataFrame) arba stulpelyje (Series).\n",
    "df = pd.DataFrame({\n",
    "    \"Name\": [\"Anna\", np.nan, \"Jonas\"],\n",
    "    \"Age\": [28, np.nan, 34]\n",
    "})\n",
    "print(df)\n",
    "print(df.isna())\n",
    "print(df.isna().sum())"
   ]
  },
  {
   "cell_type": "code",
   "execution_count": 26,
   "id": "0dee98ef-2b29-441a-9664-47b691da2444",
   "metadata": {},
   "outputs": [
    {
     "name": "stdout",
     "output_type": "stream",
     "text": [
      "   Name   Age     City\n",
      "0  Anna  28.0  Vilnius\n"
     ]
    }
   ],
   "source": [
    "#dropna() metodas pašalina trūkstamas reikšmes (NaN turinčias eilutes arba stulpelius) iš DataFrame. Naudojamas, kai nori atsikratyti duomenų su tuščiomis reikšmėmis.\n",
    "df = pd.DataFrame({\n",
    "    \"Name\": [\"Anna\", np.nan, \"Jonas\", \"Laura\"],\n",
    "    \"Age\": [28, np.nan, 34, 45],\n",
    "    \"City\": [\"Vilnius\", \"Kaunas\", np.nan, np.nan]\n",
    "})\n",
    "#print(df)\n",
    "#print(df.dropna()) # Pašalina eilutes, kuriose bent viena reikšmė yra NaN\n",
    "df = df.dropna(axis=0)\n",
    "#df = df.dropna(how=\"all\") # Pašalina tik tas eilutes, kur visos reikšmės yra NaN\n",
    "print(df)"
   ]
  },
  {
   "cell_type": "code",
   "execution_count": 1,
   "id": "1c2b8dcc-7b06-4578-9af7-d4dafea09e69",
   "metadata": {},
   "outputs": [
    {
     "name": "stdout",
     "output_type": "stream",
     "text": [
      "    Name        Age     City  Salary\n",
      "0   Anna  28.000000  Vilnius     0.0\n",
      "1    NaN  35.666667   Kaunas     0.0\n",
      "2  Jonas  34.000000      NaN     0.0\n",
      "3  Laura  45.000000      NaN     0.0\n"
     ]
    }
   ],
   "source": [
    "# fillna() metodas naudojamas vietoj NaN reikšmių įrašyti kitą nurodytą reikšmę.\n",
    "\n",
    "import pandas as pd\n",
    "import numpy as np\n",
    "\n",
    "df = pd.DataFrame({\n",
    "    \"Name\": [\"Anna\", np.nan, \"Jonas\", \"Laura\"],\n",
    "    \"Age\": [28, np.nan, 34, 45],\n",
    "    \"City\": [\"Vilnius\", \"Kaunas\", np.nan, np.nan]\n",
    "})\n",
    "df[\"Salary\"] = [np.nan, np.nan,np.nan, np.nan]\n",
    "\n",
    "# Užpildys visus NaN tekstu \"Nežinoma\":\n",
    "s = df.fillna(\"Nezinoma\")\n",
    "\n",
    "# Užpildys visus NaN stulpelyje \"Salary\" nuliais\n",
    "df[\"Salary\"] = df[\"Salary\"].fillna(0)\n",
    "\n",
    "# Užpildys NaN su vidurkiu, mediana ar pan.\n",
    "mean_of_age = df[\"Age\"].mean()\n",
    "df[\"Age\"] = df[\"Age\"].fillna(mean_of_age)\n",
    "\n",
    "print(df)"
   ]
  },
  {
   "cell_type": "code",
   "execution_count": 2,
   "id": "a14cc5b3-4028-41b9-a54d-cfb6493341a1",
   "metadata": {},
   "outputs": [
    {
     "name": "stdout",
     "output_type": "stream",
     "text": [
      "0    False\n",
      "1    False\n",
      "2     True\n",
      "3    False\n",
      "dtype: bool\n",
      "1\n",
      "    Name  Age\n",
      "0   Anna   28\n",
      "1  Jonas   34\n",
      "3  Laura   45\n"
     ]
    }
   ],
   "source": [
    "# Dublikatai, tipai, nešvarūs duomenys\n",
    "# Dublikatai.\n",
    "# Kai dirbi su duomenimis, gali pasitaikyti pasikartojančių eilučių\n",
    "# vadinamų dublikatais. Jie gali iškreipti analizę\n",
    "# (pvz., vidurkius, skaičiavimus ir kt.), todėl svarbu juos aptikti ir pašalinti.\n",
    "\n",
    "import pandas as pd\n",
    "\n",
    "df = pd.DataFrame({\n",
    "    \"Name\": [\"Anna\", \"Jonas\", \"Jonas\", \"Laura\"],\n",
    "    \"Age\": [28, 34, 34, 45]\n",
    "})\n",
    "# Grąžina True ten, kur eilutė pasikartoja (antras ir toliau).\n",
    "s = df.duplicated()\n",
    "print(s)\n",
    "\n",
    "# Parodyti kiek yra duplikatų\n",
    "a = df.duplicated().sum()\n",
    "print(a)\n",
    "\n",
    "# Ištrinti duplikatus\n",
    "b = df.drop_duplicates()\n",
    "print(b)"
   ]
  },
  {
   "cell_type": "code",
   "execution_count": 3,
   "id": "c804d69c-1783-4aae-b955-469d2eba1e73",
   "metadata": {},
   "outputs": [
    {
     "name": "stdout",
     "output_type": "stream",
     "text": [
      "Name    object\n",
      "Age      int64\n",
      "dtype: object\n"
     ]
    }
   ],
   "source": [
    "#Kai dirbi su DataFrame, labai svarbu, kad stulpeliai turėtų teisingus duomenų tipus. Netinkamas tipas gali sukelti klaidas ar lėtinti skaičiavimus. \n",
    "#Štai kaip galima konvertuoti duomenų tipus su Pandas\n",
    "\n",
    "print(df.dtypes)"
   ]
  },
  {
   "cell_type": "code",
   "execution_count": null,
   "id": "6b51fb15-4c87-4ddd-a083-d5c6d373e867",
   "metadata": {},
   "outputs": [],
   "source": [
    "#  Keitimas į int, float, str ir pan.: astype()\n",
    "\n",
    "df[\"Amžius\"] = df[\"Amžius\"].astype(int)\n",
    "df[\"Amžius\"] = df[\"Amžius\"].astype(float)\n",
    "df[\"Amžius\"] = df[\"Amžius\"].astype(str)\n",
    "# Prieš konvertuodamas į int ar float, įsitikink, kad nėra NaN reikšmių, nes kitaip gausi klaidą. Jei reikia, naudok fillna():\n",
    "df[\"Amžius\"] = df[\"Amžius\"].fillna(0).astype(int)\n",
    "\n",
    "#Konvertavimas į datą: pd.to_datetime()\n",
    "df[\"Data\"] = pd.to_datetime(df[\"Data\"])\n",
    "df[\"Data\"] = pd.to_datetime(df[\"Data\"], format=\"%Y-%m-%d\")\n",
    "\n",
    "# Konvertavimas į loginį tipą (bool)\n",
    "df[\"Aktyvus\"] = df[\"Aktyvus\"].astype(bool)\n",
    "df[\"Aktyvus\"] = df[\"Aktyvus\"].map({\"Taip\": True, \"Ne\": False})\n",
    "\n",
    "# Konvertavimas į kategorinį tipą: category\n",
    "df[\"Lytis\"] = df[\"Lytis\"].astype(\"category\")\n",
    "\n",
    "#Masinis konvertavimas keliems stulpeliams:\n",
    "df = df.astype({\n",
    "    \"Amžius\": \"int\",\n",
    "    \"Pajamos\": \"float\",\n",
    "    \"Lytis\": \"category\"\n",
    "})\n"
   ]
  },
  {
   "cell_type": "code",
   "execution_count": null,
   "id": "31e000f0-61ee-4c6d-9581-4dc5ab4e1f2f",
   "metadata": {},
   "outputs": [],
   "source": [
    "# Tarpo šalinimas ir formatavimas\n",
    "\n",
    "#Dirbant su tekstiniais duomenimis, dažnai reikia pašalinti nereikalingus tarpus, standartizuoti \n",
    "# raidžių dydį, pakeisti simbolius ir pan. Šie veiksmai yra labai svarbūs duomenų valymui ir analizės tikslumui.\n",
    "\n",
    "#str.strip() – pašalina tarpus pradžioje ir pabaigoje\n",
    "df[\"Name\"] = df[\"Name\"].str.strip()\n",
    "df[\"Name\"] = df[\"Name\"].str.lstrip()\n",
    "df[\"Name\"] = df[\"Name\"].str.rstrip()\n",
    "\n",
    "#  Mažosios / didžiosios raidės\n",
    "# str.lower() – paverčia viską mažosiomis\n",
    "df[\"City\"] = df[\"City\"].str.lower()\n",
    "\n",
    "# str.upper() – viską didžiosiomis\n",
    "df[\"City\"] = df[\"City\"].str.upper()\n",
    "\n",
    "#str.title() – pirmosios raidės didžiosios (Vardas Pavardė)\n",
    "df[\"Name\"] = df[\"Name\"].str.title()\n",
    "\n",
    "# Simbolių keitimas\n",
    "# str.replace(\"senas\", \"naujas\")\n",
    "df[\"City\"] = df[\"City\"].str.replace(\"Kaunas\", \"KAUNAS\")\n",
    "\n",
    "# Pavizdys:\n",
    "import pandas as pd\n",
    "\n",
    "df = pd.DataFrame({\n",
    "    \"Name\": [\"  anna \", \"JONAS\", \" Laura\"],\n",
    "    \"City\": [\"Vilnius \", \" Kaunas\", \"ŠIAULIAI\"]\n",
    "})\n",
    "\n",
    "# Pašalinti tarpus\n",
    "df[\"Name\"] = df[\"Name\"].str.strip()\n",
    "df[\"City\"] = df[\"City\"].str.strip()\n",
    "\n",
    "# Suvienodinti formą\n",
    "df[\"Name\"] = df[\"Name\"].str.title()\n",
    "df[\"City\"] = df[\"City\"].str.upper()\n",
    "\n",
    "print(df)\n",
    "\n",
    "# rezultatas\n",
    "    Name     City\n",
    "0   Anna  VILNIUS\n",
    "1  Jonas   KAUNAS\n",
    "2  Laura  ŠIAULIAI\n",
    "\n",
    "\n"
   ]
  }
 ],
 "metadata": {
  "kernelspec": {
   "display_name": "Python 3 (ipykernel)",
   "language": "python",
   "name": "python3"
  },
  "language_info": {
   "codemirror_mode": {
    "name": "ipython",
    "version": 3
   },
   "file_extension": ".py",
   "mimetype": "text/x-python",
   "name": "python",
   "nbconvert_exporter": "python",
   "pygments_lexer": "ipython3",
   "version": "3.12.4"
  }
 },
 "nbformat": 4,
 "nbformat_minor": 5
}
