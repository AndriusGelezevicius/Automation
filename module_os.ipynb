{
 "cells": [
  {
   "cell_type": "markdown",
   "id": "0ea959d2-8248-4ca6-ae12-4e105cce9bb8",
   "metadata": {},
   "source": [
    "# Module os"
   ]
  },
  {
   "cell_type": "code",
   "execution_count": 1,
   "id": "ad4fde4c-510b-4398-aac8-99f32e41f97a",
   "metadata": {},
   "outputs": [],
   "source": [
    "import os"
   ]
  },
  {
   "cell_type": "code",
   "execution_count": null,
   "id": "5101ba76-45db-4033-a76b-1c0c3ab1c59e",
   "metadata": {},
   "outputs": [],
   "source": [
    "os.getcwd()"
   ]
  },
  {
   "cell_type": "code",
   "execution_count": 8,
   "id": "f5147ba8-8100-4bdf-a2b8-76b53940addd",
   "metadata": {},
   "outputs": [
    {
     "data": {
      "text/plain": [
       "['.ipynb_checkpoints',\n",
       " '240_F_152457321_8zAtaY253b4ZhhjX8kBxA2FJ6ffhZIqY.jpg',\n",
       " 'background.jpg',\n",
       " 'books',\n",
       " 'helloWorld',\n",
       " 'images.jpeg',\n",
       " 'Learning',\n",
       " 'Module os',\n",
       " 'PCAP preparation',\n",
       " 'Personal_website',\n",
       " 'pythonProject',\n",
       " 'space-asteroid-surface-planet-with-craters-surface-space-planets-landscape-comet-crater-cartoon-illustration_102902-834.avif',\n",
       " 'UDEMY.Python.Programming.Tutorial.For.The.Absolute.Beginner.plus.Code.BOOKWARE-iLEARN_',\n",
       " 'UDEMY.The.Python.Programming.A-Z.Definitive.Diploma.in.2022.BOOKWARE-iLEARN_',\n",
       " 'Untitled',\n",
       " 'Untitled Folder']"
      ]
     },
     "execution_count": 8,
     "metadata": {},
     "output_type": "execute_result"
    }
   ],
   "source": [
    "os.listdir()"
   ]
  },
  {
   "cell_type": "code",
   "execution_count": 9,
   "id": "47b778be-a959-4b0f-aa3e-a59f74ace8bc",
   "metadata": {},
   "outputs": [],
   "source": [
    "os.makedirs(\"Module_os/parrot\")"
   ]
  },
  {
   "cell_type": "code",
   "execution_count": 10,
   "id": "7862a037-7e1e-4012-9f25-7e67cd3bc549",
   "metadata": {},
   "outputs": [
    {
     "data": {
      "text/plain": [
       "'Module_os\\\\parrot'"
      ]
     },
     "execution_count": 10,
     "metadata": {},
     "output_type": "execute_result"
    }
   ],
   "source": [
    "os.path.join(\"Module_os\", \"parrot\")"
   ]
  },
  {
   "cell_type": "code",
   "execution_count": 11,
   "id": "e37b117e-e129-4bf9-a7b9-203b5d83215d",
   "metadata": {
    "editable": true,
    "slideshow": {
     "slide_type": ""
    },
    "tags": []
   },
   "outputs": [],
   "source": [
    "os.makedirs(os.path.join(\"Module_os\", \"parrot\"))"
   ]
  },
  {
   "cell_type": "code",
   "execution_count": 16,
   "id": "1660a75d-f639-4cd6-8578-f6e93d226ae8",
   "metadata": {},
   "outputs": [],
   "source": [
    "os.remove(\"background.jpg\")"
   ]
  },
  {
   "cell_type": "code",
   "execution_count": 17,
   "id": "197e2f6c-11d6-4447-b848-73d6e60c30f5",
   "metadata": {},
   "outputs": [],
   "source": [
    "os.remove(\"Module_os/student.txt\")"
   ]
  },
  {
   "cell_type": "code",
   "execution_count": 18,
   "id": "4c4c7706-50d7-4438-ac05-c5c1a73d8e75",
   "metadata": {},
   "outputs": [],
   "source": [
    "os.remove(\"C:/Users/PC/Desktop/stud.txt\")"
   ]
  },
  {
   "cell_type": "code",
   "execution_count": 19,
   "id": "998a2229-8685-4156-9853-88853cae8ef4",
   "metadata": {},
   "outputs": [],
   "source": [
    "os.remove(r\"C:\\Users\\PC\\Desktop\\f.txt\") # r - raw string"
   ]
  },
  {
   "cell_type": "markdown",
   "id": "53aa02e5-a49a-48b8-bf12-e229c923bd72",
   "metadata": {},
   "source": [
    "# Day 2"
   ]
  },
  {
   "cell_type": "code",
   "execution_count": 3,
   "id": "b8ffecfe-f183-41e3-8af7-cf4022425600",
   "metadata": {},
   "outputs": [],
   "source": [
    "import os"
   ]
  },
  {
   "cell_type": "code",
   "execution_count": 4,
   "id": "34f48402-b0cf-4a9b-800a-5a2b073d6f62",
   "metadata": {},
   "outputs": [
    {
     "data": {
      "text/plain": [
       "'C:\\\\Users\\\\PC\\\\Desktop\\\\Python'"
      ]
     },
     "execution_count": 4,
     "metadata": {},
     "output_type": "execute_result"
    }
   ],
   "source": [
    "os.getcwd()"
   ]
  },
  {
   "cell_type": "code",
   "execution_count": 5,
   "id": "ca4fe22b-c11c-4720-8218-a825b11a6835",
   "metadata": {},
   "outputs": [],
   "source": [
    "os.makedirs(\"new_folder\")"
   ]
  },
  {
   "cell_type": "code",
   "execution_count": 9,
   "id": "b8f3fdda-0996-4271-be49-8acd8e4008a8",
   "metadata": {},
   "outputs": [],
   "source": [
    "os.chdir(r\"C:/Users/PC/Desktop/Python/new_folder\") # change working directory"
   ]
  },
  {
   "cell_type": "code",
   "execution_count": 10,
   "id": "9e0f0444-43c5-4175-a3b5-d9f0ef9e6077",
   "metadata": {},
   "outputs": [
    {
     "data": {
      "text/plain": [
       "'C:\\\\Users\\\\PC\\\\Desktop\\\\Python\\\\new_folder'"
      ]
     },
     "execution_count": 10,
     "metadata": {},
     "output_type": "execute_result"
    }
   ],
   "source": [
    "os.getcwd()"
   ]
  },
  {
   "cell_type": "code",
   "execution_count": 11,
   "id": "5bd07d7e-a951-4b3d-a2c6-4249d776334f",
   "metadata": {},
   "outputs": [
    {
     "data": {
      "text/plain": [
       "['untitled.txt']"
      ]
     },
     "execution_count": 11,
     "metadata": {},
     "output_type": "execute_result"
    }
   ],
   "source": [
    "os.listdir()"
   ]
  },
  {
   "cell_type": "code",
   "execution_count": 18,
   "id": "070df5f2-d932-4b1a-9bb6-2a147b8c9199",
   "metadata": {},
   "outputs": [
    {
     "data": {
      "text/plain": [
       "'new_folder\\\\cities'"
      ]
     },
     "execution_count": 18,
     "metadata": {},
     "output_type": "execute_result"
    }
   ],
   "source": [
    "# Creating new folder in new_folder. But new_folder -> new_foler -> cities\n",
    "path = os.path.join(\"new_folder\", \"cities\")\n",
    "path "
   ]
  },
  {
   "cell_type": "code",
   "execution_count": 19,
   "id": "00e47cd5-8f46-4476-a9c7-2767a466a8a2",
   "metadata": {},
   "outputs": [
    {
     "data": {
      "text/plain": [
       "'C:\\\\Users\\\\PC\\\\Desktop\\\\Python\\\\new_folder'"
      ]
     },
     "execution_count": 19,
     "metadata": {},
     "output_type": "execute_result"
    }
   ],
   "source": [
    "os.getcwd()"
   ]
  },
  {
   "cell_type": "code",
   "execution_count": null,
   "id": "c6c38894-4359-4202-9ec4-ed475260b852",
   "metadata": {},
   "outputs": [],
   "source": [
    "os.makedirs(path)"
   ]
  },
  {
   "cell_type": "markdown",
   "id": "8c697ab8-dc1e-4153-aa13-a01ca165aa7f",
   "metadata": {},
   "source": [
    " ### renaming folders"
   ]
  },
  {
   "cell_type": "code",
   "execution_count": 21,
   "id": "2445aded-a3fa-4e30-94ab-6b9471c0e7b2",
   "metadata": {},
   "outputs": [],
   "source": [
    "os.rename(\"untitled.txt\", \"first.txt\")"
   ]
  },
  {
   "cell_type": "code",
   "execution_count": 22,
   "id": "04e229d9-5900-4a36-89fd-edeffdb5019c",
   "metadata": {},
   "outputs": [],
   "source": [
    "os.rename(\"new_folder\", \"folder\")"
   ]
  },
  {
   "cell_type": "code",
   "execution_count": 24,
   "id": "8dd496f2-6cb7-48f0-aa09-235e0ff7ab4c",
   "metadata": {},
   "outputs": [],
   "source": [
    "os.rename(\"folder/cities\", \"towns\") # it moves changed folder \"towns\" to folder"
   ]
  },
  {
   "cell_type": "code",
   "execution_count": 25,
   "id": "be8937b9-6d4a-4587-ae92-6c6ac9b74d32",
   "metadata": {},
   "outputs": [],
   "source": [
    "os.rename(\"folder/kasr\", \"folder/src\") #this is how to do it"
   ]
  },
  {
   "cell_type": "markdown",
   "id": "fcc5a2bd-6631-430c-beb4-9a9dd8ec87c2",
   "metadata": {},
   "source": [
    "### Deleting folder"
   ]
  },
  {
   "cell_type": "code",
   "execution_count": 3,
   "id": "d5c8b53b-fbb8-48a6-b251-4f8805a9c59b",
   "metadata": {},
   "outputs": [],
   "source": [
    "import os"
   ]
  },
  {
   "cell_type": "code",
   "execution_count": 7,
   "id": "fe761405-e0a5-48a7-943c-4ca0d8675fce",
   "metadata": {},
   "outputs": [],
   "source": [
    "os.chdir('C:\\\\Users\\\\PC\\\\Desktop\\\\Python\\\\new_folder')"
   ]
  },
  {
   "cell_type": "code",
   "execution_count": 8,
   "id": "42b3d7ac-0c04-405f-a8b1-7249b97080c2",
   "metadata": {},
   "outputs": [],
   "source": [
    "os.rmdir(\"towns\")"
   ]
  },
  {
   "cell_type": "code",
   "execution_count": 18,
   "id": "52024501-a728-4a13-8967-9547c3e92708",
   "metadata": {},
   "outputs": [
    {
     "data": {
      "text/plain": [
       "['untitled.txt']"
      ]
     },
     "execution_count": 18,
     "metadata": {},
     "output_type": "execute_result"
    }
   ],
   "source": [
    "path = os.path.join(\"folder\", \"src\")\n",
    "l = os.listdir(path)\n",
    "l"
   ]
  },
  {
   "cell_type": "code",
   "execution_count": 20,
   "id": "90ccadbb-7dee-4677-9d07-2543b285a69c",
   "metadata": {},
   "outputs": [
    {
     "name": "stdout",
     "output_type": "stream",
     "text": [
      "folder\\src\\untitled.txt\n"
     ]
    }
   ],
   "source": [
    "for i in l:\n",
    "    print(os.path.join(path, i))\n",
    "    os.remove(os.path.join(path, i))"
   ]
  },
  {
   "cell_type": "code",
   "execution_count": null,
   "id": "e638a039-4c87-4fe4-819b-04b3c82f93ff",
   "metadata": {},
   "outputs": [],
   "source": [
    "os.rmdir(path)"
   ]
  },
  {
   "cell_type": "markdown",
   "id": "bac50846-a102-47dc-8884-5cafa63332b6",
   "metadata": {},
   "source": [
    "# Day 3"
   ]
  },
  {
   "cell_type": "code",
   "execution_count": 1,
   "id": "9f2f22be-543c-4142-b7c8-4d49a1c5b1e4",
   "metadata": {},
   "outputs": [],
   "source": [
    "import os"
   ]
  },
  {
   "cell_type": "code",
   "execution_count": null,
   "id": "6654c32e-d53d-4782-83ed-aee0c5fe7550",
   "metadata": {},
   "outputs": [],
   "source": [
    "number_of_folder = 5\n",
    "number_of_files_per_folder = 10\n",
    "\n",
    "base_directory = \"base_directory\"\n",
    "\n",
    "for folder in range(1, number_of_folder+1):\n",
    "    folder_name = \"folder_{folder}\"\n",
    "    folder_path = os.path.join(base_directory, folder_name)\n",
    "    os.makedirs(folder_path)\n",
    "\n",
    "    for file in range(1, number_of_files_per_folder+1):\n",
    "        filename = f\"filename_{file}.{extension}\"\n",
    "        file_path = os.path.join(folder_path, filename)\n",
    "\n",
    "        with open(filepath, mode=\"w\") as file_writer:\n",
    "            file_writer.write(f\"This is {filename}\")"
   ]
  },
  {
   "cell_type": "markdown",
   "id": "6eace05e-c378-4dcf-9da7-b6f782e55538",
   "metadata": {},
   "source": [
    "# Day 4"
   ]
  },
  {
   "cell_type": "markdown",
   "id": "8cae3044-7045-40a0-9e00-1eb4075b1a70",
   "metadata": {},
   "source": [
    "### List files folders and subfolders"
   ]
  },
  {
   "cell_type": "code",
   "execution_count": 1,
   "id": "599fc17c-e45a-4c0f-9547-0b4514e94782",
   "metadata": {},
   "outputs": [],
   "source": [
    "import os\n",
    "import shutil"
   ]
  },
  {
   "cell_type": "code",
   "execution_count": null,
   "id": "a45575ae-140a-4cec-9914-b536be5944bc",
   "metadata": {},
   "outputs": [],
   "source": [
    "# print(os.walk(\".\") # it shows everything what is in that folder. If folder have another folders and in them there are something, it will show\n",
    "os.makedirs(\"Images\")\n",
    "\n",
    "for current, foldernames, filenames in os.walk(\".\"):\n",
    "    print(\"current: \", current)\n",
    "\n",
    "    for foldername in foldernames:\n",
    "        print(\"foldernames: \", fildername)\n",
    "    for filename in filenames:\n",
    "        print(\"filenames: \", filesname)\n",
    "\n",
    "        image_path = os.path.join(current, filename)\n",
    "    \n",
    "        if filename.endswith(\"jpg\"):\n",
    "            shutil.copy(image_path, \"Images\")\n",
    "    print(\"-\", *50)"
   ]
  },
  {
   "cell_type": "code",
   "execution_count": 2,
   "id": "b7fa0beb-8023-44c4-8146-9d1e99cbee33",
   "metadata": {},
   "outputs": [
    {
     "data": {
      "text/plain": [
       "'C:\\\\Users\\\\PC\\\\Desktop\\\\Python\\\\module_os.ipynb'"
      ]
     },
     "execution_count": 2,
     "metadata": {},
     "output_type": "execute_result"
    }
   ],
   "source": [
    "# Working with Derctories and paths\n",
    "\n",
    "os.path.abspath(\"module_os.ipynb\") # whole path"
   ]
  },
  {
   "cell_type": "code",
   "execution_count": 3,
   "id": "b229dfc3-e3aa-4997-95ad-34b5b5c9cc12",
   "metadata": {},
   "outputs": [],
   "source": [
    "# lets sparate the path\n",
    "file_path = os.path.abspath(\"module_os.ipynb\")"
   ]
  },
  {
   "cell_type": "code",
   "execution_count": 4,
   "id": "c809bb52-4cce-4935-b261-b41bbfa95d57",
   "metadata": {},
   "outputs": [
    {
     "data": {
      "text/plain": [
       "['C:\\\\Users\\\\PC\\\\Desktop\\\\Python', 'module_os.ipynb']"
      ]
     },
     "execution_count": 4,
     "metadata": {},
     "output_type": "execute_result"
    }
   ],
   "source": [
    "file_path.rsplit(\"\\\\\", maxsplit=1)"
   ]
  },
  {
   "cell_type": "code",
   "execution_count": 5,
   "id": "674e5508-4e72-4f34-bacf-c0341a29988e",
   "metadata": {},
   "outputs": [
    {
     "data": {
      "text/plain": [
       "'C:\\\\Users\\\\PC\\\\Desktop\\\\Python'"
      ]
     },
     "execution_count": 5,
     "metadata": {},
     "output_type": "execute_result"
    }
   ],
   "source": [
    "file_path.rsplit(\"\\\\\", maxsplit=1)[0]"
   ]
  },
  {
   "cell_type": "code",
   "execution_count": 6,
   "id": "47d2ccb4-310a-4877-9584-9eb43f056549",
   "metadata": {},
   "outputs": [
    {
     "data": {
      "text/plain": [
       "'module_os.ipynb'"
      ]
     },
     "execution_count": 6,
     "metadata": {},
     "output_type": "execute_result"
    }
   ],
   "source": [
    "file_path.rsplit(\"\\\\\", maxsplit=1)[1]"
   ]
  },
  {
   "cell_type": "code",
   "execution_count": 7,
   "id": "07d4055f-dd50-461f-a109-d6e70eb8ece5",
   "metadata": {},
   "outputs": [
    {
     "data": {
      "text/plain": [
       "'C:\\\\Users\\\\PC\\\\Desktop\\\\Python'"
      ]
     },
     "execution_count": 7,
     "metadata": {},
     "output_type": "execute_result"
    }
   ],
   "source": [
    "os.path.dirname(file_path)"
   ]
  },
  {
   "cell_type": "code",
   "execution_count": 8,
   "id": "b915f778-87b1-4af7-a255-cfdc5a338fa2",
   "metadata": {},
   "outputs": [
    {
     "data": {
      "text/plain": [
       "'module_os.ipynb'"
      ]
     },
     "execution_count": 8,
     "metadata": {},
     "output_type": "execute_result"
    }
   ],
   "source": [
    "os.path.basename(file_path)"
   ]
  },
  {
   "cell_type": "code",
   "execution_count": 10,
   "id": "07f27cde-f7ee-448c-a05a-696266acbbeb",
   "metadata": {},
   "outputs": [
    {
     "data": {
      "text/plain": [
       "True"
      ]
     },
     "execution_count": 10,
     "metadata": {},
     "output_type": "execute_result"
    }
   ],
   "source": [
    "os.path.isfile(\"module_os.ipynb\")"
   ]
  },
  {
   "cell_type": "code",
   "execution_count": 11,
   "id": "7ced1b56-0836-4518-a09f-1cbcb8b8b988",
   "metadata": {},
   "outputs": [
    {
     "data": {
      "text/plain": [
       "True"
      ]
     },
     "execution_count": 11,
     "metadata": {},
     "output_type": "execute_result"
    }
   ],
   "source": [
    "os.path.isfile(file_path) # because there is file"
   ]
  },
  {
   "cell_type": "code",
   "execution_count": 14,
   "id": "f9f766b9-a726-4af5-b79e-999a48fc594f",
   "metadata": {},
   "outputs": [
    {
     "name": "stdout",
     "output_type": "stream",
     "text": [
      "File is not present. Create\n"
     ]
    }
   ],
   "source": [
    "if not os.path.isfile(\"new.txt\"):\n",
    "    print(\"File is not present. Create\")\n",
    "\n",
    "    with open(\"new.txt\", mode=\"w\") as fp:\n",
    "        fp.write(\"hello\")\n",
    "else:\n",
    "    print(\"file is present\")"
   ]
  },
  {
   "cell_type": "code",
   "execution_count": 15,
   "id": "ed6696b8-a102-477c-b5bf-21d5068907af",
   "metadata": {},
   "outputs": [
    {
     "data": {
      "text/plain": [
       "False"
      ]
     },
     "execution_count": 15,
     "metadata": {},
     "output_type": "execute_result"
    }
   ],
   "source": [
    "os.path.isdir(\"Cookie\")"
   ]
  },
  {
   "cell_type": "code",
   "execution_count": 17,
   "id": "028895ad-8b34-4170-8307-ab200c577d54",
   "metadata": {},
   "outputs": [
    {
     "name": "stdout",
     "output_type": "stream",
     "text": [
      "Folder not present. Create\n"
     ]
    }
   ],
   "source": [
    "if not os.path.isdir(\"Cookie\"):\n",
    "    print(\"Folder not present. Create\")\n",
    "    os.makedirs(\"Cookie\")\n",
    "else:\n",
    "    print(\"Folder already created\")"
   ]
  },
  {
   "cell_type": "markdown",
   "id": "75b5c9f9-5e15-4adf-8eac-4c8d9d05388f",
   "metadata": {},
   "source": [
    "### Change current working directory"
   ]
  },
  {
   "cell_type": "code",
   "execution_count": null,
   "id": "8344e4d7-70d2-41e7-8019-ea1f26b9aa22",
   "metadata": {},
   "outputs": [],
   "source": [
    "import json\n",
    "import os"
   ]
  },
  {
   "cell_type": "code",
   "execution_count": null,
   "id": "41ccccec-ff86-4116-87cc-b8e8023e3b62",
   "metadata": {},
   "outputs": [],
   "source": [
    "with open(\"fruits.json\") as file reader:\n",
    "    json_file = json.load(file_reader)\n",
    "    print(json_file)"
   ]
  },
  {
   "cell_type": "code",
   "execution_count": null,
   "id": "956057ec-b80f-4aee-829b-dbab9d98c8c1",
   "metadata": {},
   "outputs": [],
   "source": [
    "os.path.join('data\", \"quiz.json\")"
   ]
  },
  {
   "cell_type": "code",
   "execution_count": null,
   "id": "f4111a51-b1ae-4b48-ae01-d55798b7aad2",
   "metadata": {},
   "outputs": [],
   "source": [
    "with open(os.path.join(\"data\", \"quiz.json\")) as file reader:\n",
    "    json_file = json.load(file_reader)\n",
    "    print(json_file)"
   ]
  },
  {
   "cell_type": "code",
   "execution_count": null,
   "id": "cd57263a-1d02-4359-adc1-ec1555fb2240",
   "metadata": {},
   "outputs": [],
   "source": [
    "os.chdir(\"data\")"
   ]
  },
  {
   "cell_type": "code",
   "execution_count": null,
   "id": "554ec141-ae14-42cc-9fef-2bf1d5fcb64e",
   "metadata": {},
   "outputs": [],
   "source": [
    "with open(quiz.json) as file reader:\n",
    "    json_file = json.load(file_reader)\n",
    "    print(json_file)"
   ]
  },
  {
   "cell_type": "code",
   "execution_count": null,
   "id": "cb1aca05-a97a-440d-9ede-ef5e6e3afd2e",
   "metadata": {},
   "outputs": [],
   "source": [
    "os.chdir(\"..\") # Come one level back"
   ]
  },
  {
   "cell_type": "code",
   "execution_count": null,
   "id": "fad7012e-7c5e-4f44-b3e6-e54924513f67",
   "metadata": {},
   "outputs": [],
   "source": [
    "os.chdir(\"data/abc/names/some_more_name/\")"
   ]
  },
  {
   "cell_type": "code",
   "execution_count": null,
   "id": "6fd3409a-ae7b-4b03-9789-b6b0e7bd9f49",
   "metadata": {},
   "outputs": [],
   "source": [
    "os.chdir(\"../../\") # Come two levels back"
   ]
  }
 ],
 "metadata": {
  "kernelspec": {
   "display_name": "Python 3 (ipykernel)",
   "language": "python",
   "name": "python3"
  },
  "language_info": {
   "codemirror_mode": {
    "name": "ipython",
    "version": 3
   },
   "file_extension": ".py",
   "mimetype": "text/x-python",
   "name": "python",
   "nbconvert_exporter": "python",
   "pygments_lexer": "ipython3",
   "version": "3.12.4"
  }
 },
 "nbformat": 4,
 "nbformat_minor": 5
}
