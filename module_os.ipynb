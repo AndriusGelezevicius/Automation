{
 "cells": [
  {
   "cell_type": "markdown",
   "id": "0ea959d2-8248-4ca6-ae12-4e105cce9bb8",
   "metadata": {},
   "source": [
    "# Module os"
   ]
  },
  {
   "cell_type": "code",
   "execution_count": 1,
   "id": "ad4fde4c-510b-4398-aac8-99f32e41f97a",
   "metadata": {},
   "outputs": [],
   "source": [
    "import os"
   ]
  },
  {
   "cell_type": "code",
   "execution_count": 7,
   "id": "361e70d7-d20c-4fd8-af93-8ba81750aa0b",
   "metadata": {},
   "outputs": [
    {
     "data": {
      "text/plain": [
       "'C:\\\\Users\\\\PC\\\\Desktop\\\\Python'"
      ]
     },
     "execution_count": 7,
     "metadata": {},
     "output_type": "execute_result"
    }
   ],
   "source": [
    "os.getcwd()"
   ]
  },
  {
   "cell_type": "code",
   "execution_count": 8,
   "id": "f5147ba8-8100-4bdf-a2b8-76b53940addd",
   "metadata": {},
   "outputs": [
    {
     "data": {
      "text/plain": [
       "['.ipynb_checkpoints',\n",
       " '240_F_152457321_8zAtaY253b4ZhhjX8kBxA2FJ6ffhZIqY.jpg',\n",
       " 'background.jpg',\n",
       " 'books',\n",
       " 'helloWorld',\n",
       " 'images.jpeg',\n",
       " 'Learning',\n",
       " 'Module os',\n",
       " 'PCAP preparation',\n",
       " 'Personal_website',\n",
       " 'pythonProject',\n",
       " 'space-asteroid-surface-planet-with-craters-surface-space-planets-landscape-comet-crater-cartoon-illustration_102902-834.avif',\n",
       " 'UDEMY.Python.Programming.Tutorial.For.The.Absolute.Beginner.plus.Code.BOOKWARE-iLEARN_',\n",
       " 'UDEMY.The.Python.Programming.A-Z.Definitive.Diploma.in.2022.BOOKWARE-iLEARN_',\n",
       " 'Untitled',\n",
       " 'Untitled Folder']"
      ]
     },
     "execution_count": 8,
     "metadata": {},
     "output_type": "execute_result"
    }
   ],
   "source": [
    "os.listdir()"
   ]
  },
  {
   "cell_type": "code",
   "execution_count": 9,
   "id": "47b778be-a959-4b0f-aa3e-a59f74ace8bc",
   "metadata": {},
   "outputs": [],
   "source": [
    "os.makedirs(\"Module_os/parrot\")"
   ]
  },
  {
   "cell_type": "code",
   "execution_count": 10,
   "id": "7862a037-7e1e-4012-9f25-7e67cd3bc549",
   "metadata": {},
   "outputs": [
    {
     "data": {
      "text/plain": [
       "'Module_os\\\\parrot'"
      ]
     },
     "execution_count": 10,
     "metadata": {},
     "output_type": "execute_result"
    }
   ],
   "source": [
    "os.path.join(\"Module_os\", \"parrot\")"
   ]
  },
  {
   "cell_type": "code",
   "execution_count": 11,
   "id": "e37b117e-e129-4bf9-a7b9-203b5d83215d",
   "metadata": {
    "editable": true,
    "slideshow": {
     "slide_type": ""
    },
    "tags": []
   },
   "outputs": [],
   "source": [
    "os.makedirs(os.path.join(\"Module_os\", \"parrot\"))"
   ]
  },
  {
   "cell_type": "code",
   "execution_count": 16,
   "id": "1660a75d-f639-4cd6-8578-f6e93d226ae8",
   "metadata": {},
   "outputs": [],
   "source": [
    "os.remove(\"background.jpg\")"
   ]
  },
  {
   "cell_type": "code",
   "execution_count": 17,
   "id": "197e2f6c-11d6-4447-b848-73d6e60c30f5",
   "metadata": {},
   "outputs": [],
   "source": [
    "os.remove(\"Module_os/student.txt\")"
   ]
  },
  {
   "cell_type": "code",
   "execution_count": 18,
   "id": "4c4c7706-50d7-4438-ac05-c5c1a73d8e75",
   "metadata": {},
   "outputs": [],
   "source": [
    "os.remove(\"C:/Users/PC/Desktop/stud.txt\")"
   ]
  },
  {
   "cell_type": "code",
   "execution_count": 19,
   "id": "998a2229-8685-4156-9853-88853cae8ef4",
   "metadata": {},
   "outputs": [],
   "source": [
    "os.remove(r\"C:\\Users\\PC\\Desktop\\f.txt\") # r - raw string"
   ]
  },
  {
   "cell_type": "code",
   "execution_count": null,
   "id": "09100201-15d1-4d98-b26b-0a11b6a4cebd",
   "metadata": {},
   "outputs": [],
   "source": []
  }
 ],
 "metadata": {
  "kernelspec": {
   "display_name": "Python 3 (ipykernel)",
   "language": "python",
   "name": "python3"
  },
  "language_info": {
   "codemirror_mode": {
    "name": "ipython",
    "version": 3
   },
   "file_extension": ".py",
   "mimetype": "text/x-python",
   "name": "python",
   "nbconvert_exporter": "python",
   "pygments_lexer": "ipython3",
   "version": "3.12.4"
  }
 },
 "nbformat": 4,
 "nbformat_minor": 5
}
