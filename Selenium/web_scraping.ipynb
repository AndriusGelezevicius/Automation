{
 "cells": [
  {
   "cell_type": "markdown",
   "id": "29f2198b-44b1-44f9-8877-86c00fc8c4fe",
   "metadata": {},
   "source": [
    "### Duomenų rinkimas (Web Scraping) su Selenium"
   ]
  },
  {
   "cell_type": "code",
   "execution_count": null,
   "id": "b412f92b-b213-4385-ab6d-65bc28d93dad",
   "metadata": {},
   "outputs": [],
   "source": [
    "# Selenium leidžia ne tik testuoti, bet ir rinkti duomenis iš svetainių,\n",
    "# tai vadinama web scraping. Ypač naudinga, kai puslapis naudoja JavaScript\n",
    "# ir neįmanoma išgauti duomenų vien su requests + BeautifulSoup."
   ]
  },
  {
   "cell_type": "markdown",
   "id": "b24bcb99-d7e4-4733-b1b6-bddd5509c52b",
   "metadata": {},
   "source": [
    "#### HTML duomenų nuskaitymas iš svetainės"
   ]
  },
  {
   "cell_type": "code",
   "execution_count": null,
   "id": "a5196e45-a36f-4040-b646-8966381ac555",
   "metadata": {},
   "outputs": [],
   "source": [
    "# Elemento teksto nuskaitymas:\n",
    "el = driver.find_element(By.CLASS_NAME, \"produkto-pavadinimas\")\n",
    "print(el.text)\n",
    "\n",
    "# Daug elementų:\n",
    "elementai = driver.find_elements(By.CLASS_NAME, \"kaina\")\n",
    "for el in elementai:\n",
    "    print(el.text)\n",
    "    \n",
    "# Atributų nuskaitymas:\n",
    "img = driver.find_element(By.TAG_NAME, \"img\")\n",
    "print(img.get_attribute(\"src\"))\n",
    "\n",
    "# Pavyzdys: Nuskaityti Google paieškos rezultatus\n",
    "from selenium import webdriver\n",
    "from selenium.webdriver.common.by import By\n",
    "from selenium.webdriver.common.keys import Keys\n",
    "import time\n",
    "\n",
    "driver = webdriver.Chrome()\n",
    "driver.get(\"https://www.google.com\")\n",
    "\n",
    "search_box = driver.find_element(By.NAME, \"q\")\n",
    "search_box.send_keys(\"Selenium Python\")\n",
    "search_box.send_keys(Keys.RETURN)\n",
    "time.sleep(2)\n",
    "\n",
    "rezultatai = driver.find_elements(By.CSS_SELECTOR, \"div.g\")\n",
    "for r in rezultatai:\n",
    "    try:\n",
    "        antraste = r.find_element(By.TAG_NAME, \"h3\").text\n",
    "        nuoroda = r.find_element(By.TAG_NAME, \"a\").get_attribute(\"href\")\n",
    "        print(antraste, \"->\", nuoroda)\n",
    "    except:\n",
    "        pass\n",
    "\n",
    "driver.quit()\n"
   ]
  },
  {
   "cell_type": "markdown",
   "id": "8ba65479-2a75-4ed5-9350-79862b2c16ec",
   "metadata": {},
   "source": [
    "####  Duomenų įrašymas į CSV / Excel"
   ]
  },
  {
   "cell_type": "code",
   "execution_count": null,
   "id": "b281851e-0d59-4755-b0dc-313a7d18a3af",
   "metadata": {},
   "outputs": [],
   "source": [
    "# Įrašymas į CSV:\n",
    "import csv\n",
    "\n",
    "duomenys = [(\"Pavadinimas\", \"Kaina\"), (\"Knyga A\", \"9.99 €\"), (\"Knyga B\", \"12.50 €\")]\n",
    "\n",
    "with open(\"produktai.csv\", \"w\", newline=\"\", encoding=\"utf-8\") as f:\n",
    "    writer = csv.writer(f)\n",
    "    writer.writerows(duomenys)\n",
    "\n",
    "# Įrašymas į Excel su pandas:\n",
    "import pandas as pd\n",
    "\n",
    "df = pd.DataFrame(duomenys[1:], columns=duomenys[0])\n",
    "df.to_excel(\"produktai.xlsx\", index=False)\n"
   ]
  },
  {
   "cell_type": "markdown",
   "id": "91542d47-b876-407b-9c18-6a874a9acb62",
   "metadata": {},
   "source": [
    "#### Pavyzdys"
   ]
  },
  {
   "cell_type": "code",
   "execution_count": null,
   "id": "9dc2a1a5-065e-4394-9ada-c921f224087b",
   "metadata": {},
   "outputs": [],
   "source": [
    "# Atidaro el. parduotuvę (pavyzdžiui, https://books.toscrape.com/)\n",
    "# Paimą pirmų 10 knygų pavadinimus ir kainas\n",
    "# Išsaugo duomenis į prekes.xlsx naudojant pandas\n",
    "\n",
    "from selenium import webdriver\n",
    "from selenium.webdriver.common.by import By\n",
    "import pandas as pd\n",
    "import time\n",
    "\n",
    "# Paleidžiam naršyklę\n",
    "driver = webdriver.Chrome()\n",
    "driver.get(\"https://books.toscrape.com/\")\n",
    "time.sleep(2)  # leidžiam puslapiui pilnai užsikrauti\n",
    "\n",
    "# Renkame duomenis\n",
    "prekes = []\n",
    "knygos = driver.find_elements(By.CLASS_NAME, \"product_pod\")[:10]\n",
    "\n",
    "for knyga in knygos:\n",
    "    pavadinimas = knyga.find_element(By.TAG_NAME, \"h3\").text\n",
    "    kaina = knyga.find_element(By.CLASS_NAME, \"price_color\").text\n",
    "    prekes.append((pavadinimas, kaina))\n",
    "\n",
    "# Uždaryti naršyklę\n",
    "driver.quit()\n",
    "\n",
    "# Įrašome į Excel\n",
    "df = pd.DataFrame(prekes, columns=[\"Pavadinimas\", \"Kaina\"])\n",
    "df.to_excel(\"prekes.xlsx\", index=False)\n"
   ]
  },
  {
   "cell_type": "markdown",
   "id": "8ed4057b-9705-4b01-b2d1-d42bed4042bc",
   "metadata": {},
   "source": [
    "#### Užduotys"
   ]
  },
  {
   "cell_type": "code",
   "execution_count": null,
   "id": "cacbffe1-606d-4ed0-a084-7861e1ef1937",
   "metadata": {},
   "outputs": [],
   "source": [
    "#Užduotis 1: Atidaryti puslapį ir nuskaityti pavadinimą\n",
    "# Atidaryk svetainę https://example.com\n",
    "# Atspausdink puslapio <title> reikšmę\n",
    "from selenium import webdriver\n",
    "from selenium.webdriver.chrome.service import Service\n",
    "from selenium.webdriver.chrome.options import Options\n",
    "\n",
    "options = Options()\n",
    "driver = webdriver.Chrome()\n",
    "driver.get(\"https://example.com\")\n",
    "\n",
    "print(driver.title)"
   ]
  },
  {
   "cell_type": "code",
   "execution_count": null,
   "id": "b5645548-52dd-4a5d-95c3-583d494d7d09",
   "metadata": {},
   "outputs": [],
   "source": [
    "# Užduotis 2: Ištraukti visas nuorodas\n",
    "# Atidaryk svetainę https://example.com\n",
    "# Rask visus <a> elementus\n",
    "# Išvesk tekstą ir href kiekvienos nuorodos\n",
    "\n",
    "options = Options()\n",
    "driver = webdriver.Chrome()\n",
    "driver.get(\"https://example.com\")\n",
    "\n",
    "element = driver.find_elements(By.TAG_NAME, \"a\")\n",
    "\n",
    "for elementas in element:\n",
    "    print(f\"Tekstas: {elementas.text} | Nuoroda: {elementas.get_attribute('href')}\")\n",
    "\n",
    "driver.quit()"
   ]
  },
  {
   "cell_type": "code",
   "execution_count": null,
   "id": "28721352-e1c9-424a-89b0-f1df53b93589",
   "metadata": {},
   "outputs": [],
   "source": []
  }
 ],
 "metadata": {
  "kernelspec": {
   "display_name": "Python 3 (ipykernel)",
   "language": "python",
   "name": "python3"
  },
  "language_info": {
   "codemirror_mode": {
    "name": "ipython",
    "version": 3
   },
   "file_extension": ".py",
   "mimetype": "text/x-python",
   "name": "python",
   "nbconvert_exporter": "python",
   "pygments_lexer": "ipython3",
   "version": "3.12.4"
  }
 },
 "nbformat": 4,
 "nbformat_minor": 5
}
