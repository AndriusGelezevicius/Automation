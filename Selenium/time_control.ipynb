{
 "cells": [
  {
   "cell_type": "markdown",
   "id": "25dbd7fb-7ac4-4cf2-8f1c-7f95417d3382",
   "metadata": {},
   "source": [
    "## Time Control"
   ]
  },
  {
   "cell_type": "markdown",
   "id": "90088b91-1a82-402c-9ecf-b0ce74471073",
   "metadata": {},
   "source": [
    "#### WebDriverWait"
   ]
  },
  {
   "cell_type": "code",
   "execution_count": null,
   "id": "1685ae1b-b64c-4602-a63a-5e939a24e56f",
   "metadata": {},
   "outputs": [],
   "source": [
    "# WebDriverWait yra įrankis, naudojamas su Selenium WebDriver, kad palauktų tam tikrą laiką, \n",
    "# kol bus įvykdyta tam tikra sąlyga, prieš tęsiant testą. Tai labai naudinga, kai reikia palaukti, \n",
    "# kol elementai taps pasiekiami arba matomi, nes ne visi puslapiai įsikrauna vienodu greičiu.\n",
    "\n",
    "# Kodėl reikia WebDriverWait?\n",
    "# Kai dirbame su dinaminiu turiniu (pavyzdžiui, \"JavaScript\" sugeneruotu turiniu arba įkeliama \n",
    "# informacija, kuri gali užtrukti), gali pasitaikyti, kad elementas, su kuriuo norime dirbti, \n",
    "# dar nėra įkeltas arba nėra visiškai matomas. Jei bandysime su juo sąveikauti, galime gauti klaidų,\n",
    "# pvz., ElementNotVisibleException, StaleElementReferenceException, arba ElementNotInteractableException.\n",
    "\n",
    "# Kad to išvengtume, naudodami WebDriverWait, galime užtikrinti, kad veiksmai bus atliekami tik tada,\n",
    "# kai elementas yra pasirengęs.\n",
    "\n",
    "# Kaip naudoti WebDriverWait?\n",
    "# Pagrindiniai žingsniai:\n",
    "\n",
    "# Importuoti reikalingus modulius: Norint naudoti WebDriverWait, reikia importuoti atitinkamus\n",
    "# modulius iš Selenium.\n",
    "    \n",
    "from selenium.webdriver.support.ui import WebDriverWait\n",
    "from selenium.webdriver.support import expected_conditions as EC\n",
    "\n",
    "# Nustatyti laukimo sąlygas: WebDriverWait naudoja sąlygas, kad patikrintų, ar elementas atitinka norimą \n",
    "# būseną (pvz., kad jis taptų pasiekiamas, matomas, ar interaktyvus).\n",
    "\n",
    "# Naudojame EC (expected conditions) norėdami nurodyti sąlygas, kaip:\n",
    "# EC.element_to_be_clickable(): laukia, kol elementas taps paspaudžiamas.\n",
    "# EC.visibility_of_element_located(): laukia, kol elementas taps matomas.\n",
    "# EC.presence_of_element_located(): laukia, kol elementas pasirodys DOM.\n",
    "# EC.alert_is_present(): laukia, kol pasirodys įspėjimo langas.\n",
    "\n",
    "# 1. Laukti, kol elementas taps pasiekiamas (paspaudžiamas):\n",
    "# Laukia iki 10 sekundžių, kol mygtukas taps pasiekiamas ir paspaudžiamas\n",
    "menu_button = WebDriverWait(driver, 10).until(\n",
    "    EC.element_to_be_clickable((By.ID, \"react-burger-menu-btn\"))\n",
    ")\n",
    "menu_button.click()\n",
    "# 2. Laukti, kol elementas taps matomas:\n",
    "# Laukia iki 10 sekundžių, kol elementas taps matomas\n",
    "element = WebDriverWait(driver, 10).until(\n",
    "    EC.visibility_of_element_located((By.ID, \"my-element\"))\n",
    ")\n",
    "# 3. Laukti, kol elementas pasirodys DOM, bet gali būti nematomas:\n",
    "# Laukia iki 10 sekundžių, kol elementas pasirodys DOM\n",
    "element = WebDriverWait(driver, 10).until(\n",
    "    EC.presence_of_element_located((By.ID, \"my-element\"))\n",
    ")\n",
    "# 4. Laukti, kol įspėjimo langas pasirodys:\n",
    "# Laukia, kol įspėjimo langas pasirodys\n",
    "alert = WebDriverWait(driver, 10).until(\n",
    "    EC.alert_is_present()\n",
    ")\n",
    "# Taisyklingas naudojimas:\n",
    "# - Laukiame tik tiek, kiek reikia: Jei elementas pasiekiamas anksčiau nei per \n",
    "# - nustatytą laukimo laiką, Selenium tiesiog tęsiama toliau.\n",
    "# - Naudojame trumpesnius laikus: Nereikia laukti visą laiką, jei elementas pasirodo\n",
    "# - greitai. Galite naudoti laukimo laiką \n",
    "# - nuo 5 iki 20 sekundžių, priklausomai nuo puslapio įkėlimo greičio.\n",
    "\n",
    "# Nauda:\n",
    "# Patikimumas: Užtikrina, kad testai bus patikimesni ir nebus klaidų dėl elementų,\n",
    "# kurie dar nėra įkeliami.\n",
    "\n",
    "# Optimizacija: Palyginti su pasikartojančiu sleep(), kuris tiesiog užtrunka tam \n",
    "# tikrą laiką, WebDriverWait palauks tik tiek, kiek reikia, ir jei elementas pasirodys\n",
    "# greičiau, testas tęsis greičiau.\n",
    "\n",
    "# Ką daryti, jei elementas neatsiranda?\n",
    "# Jei per nustatytą laukimo laiką elementas neatsiranda, WebDriverWait išmes klaidą, tokią kaip:\n",
    "selenium.common.exceptions.TimeoutException: Message: "
   ]
  },
  {
   "cell_type": "markdown",
   "id": "5bdb5985-125b-4fde-883f-3688e3e8714f",
   "metadata": {},
   "source": [
    "#### implicitly_wait()"
   ]
  },
  {
   "cell_type": "code",
   "execution_count": null,
   "id": "cce1eb4e-fb86-46ad-a480-5ce574f5067e",
   "metadata": {},
   "outputs": [],
   "source": [
    "# Yra Selenium metodo WebDriver funkcija, kuri nurodo naršyklei laukti tam tikrą laiką, kol\n",
    "# elementas atsiras DOM'e (puslapio HTML struktūroje), prieš metant klaidą \n",
    "\n",
    "from selenium import webdriver\n",
    "\n",
    "driver = webdriver.Chrome()\n",
    "driver.implicitly_wait(10)  # laukia iki 10 sekundžių, kol visi elementai atsiras\n",
    "\n",
    "driver.get(\"https://example.com\")\n",
    "element = driver.find_element(By.ID, \"some-id\")  # jei šio elemento nėra iš karto, lauks iki 10s\n",
    "\n",
    "# Kaip tai veikia:\n",
    "# - Jis taikomas visam driveriui – kiekvienas find_element arba find_elements bandymas naudos šį laukimą.\n",
    "# - Jei elementas atsiranda anksčiau nei baigiasi laukimas – testas tęsiasi iš karto.\n",
    "# - Veikia tik DOM'e – nereiškia, kad elementas matomas (už tai atsakingas WebDriverWait su visibility_of_element ir pan.).\n",
    "\n",
    "# Kada naudoti:\n",
    "# - Paprastam laukimui, kai elementai kartais pasirodo vėliau.\n",
    "# - Jei nori paprastumo ir nenori naudoti WebDriverWait kas kartą."
   ]
  }
 ],
 "metadata": {
  "kernelspec": {
   "display_name": "Python 3 (ipykernel)",
   "language": "python",
   "name": "python3"
  },
  "language_info": {
   "codemirror_mode": {
    "name": "ipython",
    "version": 3
   },
   "file_extension": ".py",
   "mimetype": "text/x-python",
   "name": "python",
   "nbconvert_exporter": "python",
   "pygments_lexer": "ipython3",
   "version": "3.12.4"
  }
 },
 "nbformat": 4,
 "nbformat_minor": 5
}
